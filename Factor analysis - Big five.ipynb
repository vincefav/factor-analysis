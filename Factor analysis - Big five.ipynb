{
 "cells": [
  {
   "cell_type": "code",
   "execution_count": 1,
   "metadata": {
    "collapsed": false
   },
   "outputs": [
    {
     "name": "stdout",
     "output_type": "stream",
     "text": [
      "Populating the interactive namespace from numpy and matplotlib\n"
     ]
    }
   ],
   "source": [
    "import pandas as pd\n",
    "import numpy as np\n",
    "import matplotlib.pyplot as plt\n",
    "from xgboost import XGBClassifier, XGBRegressor\n",
    "import seaborn as sns\n",
    "sns.set_style(\"dark\")\n",
    "\n",
    "from sklearn.model_selection import train_test_split, cross_val_score, GridSearchCV\n",
    "from sklearn.metrics import roc_auc_score\n",
    "from sklearn.preprocessing import LabelBinarizer\n",
    "\n",
    "from warnings import filterwarnings\n",
    "filterwarnings('ignore')\n",
    "\n",
    "%pylab inline\n",
    "data=None\n",
    "def absolute_correlations(col, df=data):\n",
    "    #absolute_values = np.abs(df[col])\n",
    "    corrs = pd.DataFrame(df.select_dtypes(include=[np.number]).corrwith(df[col]), columns=['correlation'])\n",
    "    corrs['absol'] = np.abs(corrs['correlation'])\n",
    "    return corrs.sort_values('absol', ascending=False).drop('absol', axis=1)"
   ]
  },
  {
   "cell_type": "code",
   "execution_count": 2,
   "metadata": {
    "collapsed": false
   },
   "outputs": [
    {
     "data": {
      "text/plain": [
       "(19011, 50)"
      ]
     },
     "execution_count": 2,
     "metadata": {},
     "output_type": "execute_result"
    }
   ],
   "source": [
    "data = pd.read_csv('data_cleaned.csv')\n",
    "data = data[[i for i in data.columns if 'Unnamed' not in i]]\n",
    "\n",
    "# Use only good data\n",
    "\n",
    "# Users could enter any number for age, so let's remove the jokers\n",
    "data = data[data['age'] < 71]\n",
    "data.replace(-1, np.nan, inplace=True)\n",
    "data = data.dropna()\n",
    "\n",
    "# Simplify genders down to two, for convenience\n",
    "data = data[(data['gender'] < 3) & (data['gender'] > 0)]\n",
    "data['gender'] = np.where(data['gender'] == 1, 'man', 'woman')\n",
    "\n",
    "data['reliable'] = np.where(\n",
    "    np.abs(data['I have frequent mood swings.'] - data['I change my mood a lot.']) > 2, 0, 1)\n",
    "\n",
    "data = data[data.reliable == 1]\n",
    "del data['reliable']\n",
    "\n",
    "# Remove demographics\n",
    "data = data.drop(['age', 'gender', 'country'], axis=1)\n",
    "\n",
    "data.shape"
   ]
  },
  {
   "cell_type": "markdown",
   "metadata": {},
   "source": [
    "# Factor analysis"
   ]
  },
  {
   "cell_type": "code",
   "execution_count": 3,
   "metadata": {
    "collapsed": false
   },
   "outputs": [
    {
     "data": {
      "text/html": [
       "<div>\n",
       "<style>\n",
       "    .dataframe thead tr:only-child th {\n",
       "        text-align: right;\n",
       "    }\n",
       "\n",
       "    .dataframe thead th {\n",
       "        text-align: left;\n",
       "    }\n",
       "\n",
       "    .dataframe tbody tr th {\n",
       "        vertical-align: top;\n",
       "    }\n",
       "</style>\n",
       "<table border=\"1\" class=\"dataframe\">\n",
       "  <thead>\n",
       "    <tr style=\"text-align: right;\">\n",
       "      <th></th>\n",
       "      <th>1</th>\n",
       "    </tr>\n",
       "  </thead>\n",
       "  <tbody>\n",
       "    <tr>\n",
       "      <th>I talk to a lot of different people at parties.</th>\n",
       "      <td>-0.990938</td>\n",
       "    </tr>\n",
       "    <tr>\n",
       "      <th>I start conversations.</th>\n",
       "      <td>-0.919648</td>\n",
       "    </tr>\n",
       "    <tr>\n",
       "      <th>I feel comfortable around people.</th>\n",
       "      <td>-0.919154</td>\n",
       "    </tr>\n",
       "    <tr>\n",
       "      <th>I am quiet around strangers.</th>\n",
       "      <td>0.810207</td>\n",
       "    </tr>\n",
       "    <tr>\n",
       "      <th>I keep in the background.</th>\n",
       "      <td>0.777479</td>\n",
       "    </tr>\n",
       "    <tr>\n",
       "      <th>I don't talk a lot.</th>\n",
       "      <td>0.759983</td>\n",
       "    </tr>\n",
       "    <tr>\n",
       "      <th>I have little to say.</th>\n",
       "      <td>0.724442</td>\n",
       "    </tr>\n",
       "  </tbody>\n",
       "</table>\n",
       "</div>"
      ],
      "text/plain": [
       "                                                        1\n",
       "I talk to a lot of different people at parties. -0.990938\n",
       "I start conversations.                          -0.919648\n",
       "I feel comfortable around people.               -0.919154\n",
       "I am quiet around strangers.                     0.810207\n",
       "I keep in the background.                        0.777479\n",
       "I don't talk a lot.                              0.759983\n",
       "I have little to say.                            0.724442"
      ]
     },
     "execution_count": 3,
     "metadata": {},
     "output_type": "execute_result"
    }
   ],
   "source": [
    "from sklearn.decomposition import FactorAnalysis\n",
    "\n",
    "def get_factor(remaining=data.columns, threshold=0.65):\n",
    "\n",
    "    fa = FactorAnalysis(n_components=1, random_state=200).fit(data[remaining])\n",
    "\n",
    "    factor = pd.DataFrame(fa.components_, columns=data[remaining].columns).T\n",
    "\n",
    "    factor.columns = [i+1 for i in factor.columns]\n",
    "    factor['absol'] = abs(factor[1])\n",
    "    \n",
    "    remaining = factor[np.abs(factor[1]) < threshold].index\n",
    "    factor = factor[factor.absol >= threshold]\n",
    "    \n",
    "    factor = pd.DataFrame(factor.sort_values('absol', ascending=False)[1])\n",
    "\n",
    "    return factor, remaining\n",
    "\n",
    "factor, remaining = get_factor(threshold=.72)\n",
    "\n",
    "# Extraversion\n",
    "factor"
   ]
  },
  {
   "cell_type": "markdown",
   "metadata": {},
   "source": [
    "I'm still experimenting with the methodology, but if we're measuring psychological constructs, it's also important for the intercorrelations within each factor's items to be high (ideally 0.70 or greater)."
   ]
  },
  {
   "cell_type": "code",
   "execution_count": 4,
   "metadata": {
    "collapsed": false
   },
   "outputs": [
    {
     "data": {
      "text/html": [
       "<div>\n",
       "<style>\n",
       "    .dataframe thead tr:only-child th {\n",
       "        text-align: right;\n",
       "    }\n",
       "\n",
       "    .dataframe thead th {\n",
       "        text-align: left;\n",
       "    }\n",
       "\n",
       "    .dataframe tbody tr th {\n",
       "        vertical-align: top;\n",
       "    }\n",
       "</style>\n",
       "<table border=\"1\" class=\"dataframe\">\n",
       "  <thead>\n",
       "    <tr style=\"text-align: right;\">\n",
       "      <th></th>\n",
       "      <th>0</th>\n",
       "    </tr>\n",
       "  </thead>\n",
       "  <tbody>\n",
       "    <tr>\n",
       "      <th>I start conversations.</th>\n",
       "      <td>0.552253</td>\n",
       "    </tr>\n",
       "    <tr>\n",
       "      <th>I talk to a lot of different people at parties.</th>\n",
       "      <td>0.525610</td>\n",
       "    </tr>\n",
       "    <tr>\n",
       "      <th>I don't talk a lot.</th>\n",
       "      <td>0.507406</td>\n",
       "    </tr>\n",
       "    <tr>\n",
       "      <th>I keep in the background.</th>\n",
       "      <td>0.507092</td>\n",
       "    </tr>\n",
       "    <tr>\n",
       "      <th>I feel comfortable around people.</th>\n",
       "      <td>0.498785</td>\n",
       "    </tr>\n",
       "    <tr>\n",
       "      <th>I am quiet around strangers.</th>\n",
       "      <td>0.494405</td>\n",
       "    </tr>\n",
       "    <tr>\n",
       "      <th>I have little to say.</th>\n",
       "      <td>0.458996</td>\n",
       "    </tr>\n",
       "  </tbody>\n",
       "</table>\n",
       "</div>"
      ],
      "text/plain": [
       "                                                        0\n",
       "I start conversations.                           0.552253\n",
       "I talk to a lot of different people at parties.  0.525610\n",
       "I don't talk a lot.                              0.507406\n",
       "I keep in the background.                        0.507092\n",
       "I feel comfortable around people.                0.498785\n",
       "I am quiet around strangers.                     0.494405\n",
       "I have little to say.                            0.458996"
      ]
     },
     "execution_count": 4,
     "metadata": {},
     "output_type": "execute_result"
    }
   ],
   "source": [
    "def intercorrelations(factor=factor):\n",
    "    factor_questions = factor.index\n",
    "    intercorrelations = {}\n",
    "\n",
    "    for i in factor_questions:\n",
    "        corrs = abs(data[factor_questions].drop(i, axis=1).corrwith(data[i]))\n",
    "        intercorrelations[i] = corrs.mean()\n",
    "\n",
    "    return pd.DataFrame([intercorrelations]).T.sort_values(0, ascending=False)\n",
    "    \n",
    "intercorrelations()"
   ]
  },
  {
   "cell_type": "markdown",
   "metadata": {},
   "source": [
    "We can also look at the items that are most highly correlated with our strongest factor loading..."
   ]
  },
  {
   "cell_type": "code",
   "execution_count": 5,
   "metadata": {
    "collapsed": false
   },
   "outputs": [
    {
     "data": {
      "text/html": [
       "<div>\n",
       "<style>\n",
       "    .dataframe thead tr:only-child th {\n",
       "        text-align: right;\n",
       "    }\n",
       "\n",
       "    .dataframe thead th {\n",
       "        text-align: left;\n",
       "    }\n",
       "\n",
       "    .dataframe tbody tr th {\n",
       "        vertical-align: top;\n",
       "    }\n",
       "</style>\n",
       "<table border=\"1\" class=\"dataframe\">\n",
       "  <thead>\n",
       "    <tr style=\"text-align: right;\">\n",
       "      <th></th>\n",
       "      <th>correlation</th>\n",
       "    </tr>\n",
       "  </thead>\n",
       "  <tbody>\n",
       "    <tr>\n",
       "      <th>I talk to a lot of different people at parties.</th>\n",
       "      <td>1.000000</td>\n",
       "    </tr>\n",
       "    <tr>\n",
       "      <th>I start conversations.</th>\n",
       "      <td>0.634175</td>\n",
       "    </tr>\n",
       "    <tr>\n",
       "      <th>I am the life of the party.</th>\n",
       "      <td>0.591438</td>\n",
       "    </tr>\n",
       "    <tr>\n",
       "      <th>I feel comfortable around people.</th>\n",
       "      <td>0.582116</td>\n",
       "    </tr>\n",
       "    <tr>\n",
       "      <th>I am quiet around strangers.</th>\n",
       "      <td>-0.538342</td>\n",
       "    </tr>\n",
       "    <tr>\n",
       "      <th>I keep in the background.</th>\n",
       "      <td>-0.509595</td>\n",
       "    </tr>\n",
       "    <tr>\n",
       "      <th>I don't talk a lot.</th>\n",
       "      <td>-0.481347</td>\n",
       "    </tr>\n",
       "    <tr>\n",
       "      <th>I don't mind being the center of attention.</th>\n",
       "      <td>0.436464</td>\n",
       "    </tr>\n",
       "    <tr>\n",
       "      <th>I have little to say.</th>\n",
       "      <td>-0.408088</td>\n",
       "    </tr>\n",
       "    <tr>\n",
       "      <th>I am interested in people.</th>\n",
       "      <td>0.359238</td>\n",
       "    </tr>\n",
       "  </tbody>\n",
       "</table>\n",
       "</div>"
      ],
      "text/plain": [
       "                                                 correlation\n",
       "I talk to a lot of different people at parties.     1.000000\n",
       "I start conversations.                              0.634175\n",
       "I am the life of the party.                         0.591438\n",
       "I feel comfortable around people.                   0.582116\n",
       "I am quiet around strangers.                       -0.538342\n",
       "I keep in the background.                          -0.509595\n",
       "I don't talk a lot.                                -0.481347\n",
       "I don't mind being the center of attention.         0.436464\n",
       "I have little to say.                              -0.408088\n",
       "I am interested in people.                          0.359238"
      ]
     },
     "execution_count": 5,
     "metadata": {},
     "output_type": "execute_result"
    }
   ],
   "source": [
    "corrs = absolute_correlations(factor.index[0], df=data)\n",
    "corrs.head(10)"
   ]
  },
  {
   "cell_type": "markdown",
   "metadata": {
    "collapsed": true
   },
   "source": [
    "Lots of overlap. Let's zero in on it."
   ]
  },
  {
   "cell_type": "code",
   "execution_count": 6,
   "metadata": {
    "collapsed": false
   },
   "outputs": [
    {
     "data": {
      "text/plain": [
       "{'I am quiet around strangers.',\n",
       " \"I don't talk a lot.\",\n",
       " 'I feel comfortable around people.',\n",
       " 'I have little to say.',\n",
       " 'I keep in the background.',\n",
       " 'I start conversations.',\n",
       " 'I talk to a lot of different people at parties.'}"
      ]
     },
     "execution_count": 6,
     "metadata": {},
     "output_type": "execute_result"
    }
   ],
   "source": [
    "def overlap(factor=factor, corrs=corrs):\n",
    "    factor_items = set(factor.index)\n",
    "    corr_items = set(corrs.head(10).index)\n",
    "\n",
    "    return factor_items.intersection(corr_items)\n",
    "\n",
    "overlap()"
   ]
  },
  {
   "cell_type": "markdown",
   "metadata": {},
   "source": [
    "We should have very high confidence that these are all measuring the same phenomenon (in this case, extraversion).\n",
    "\n",
    "Let's create a new feature using this factor!"
   ]
  },
  {
   "cell_type": "code",
   "execution_count": 7,
   "metadata": {
    "collapsed": false
   },
   "outputs": [],
   "source": [
    "fa = FactorAnalysis(n_components=1).fit(data.values)\n",
    "fa1 = fa.transform(data)\n",
    "\n",
    "from sklearn.preprocessing import MinMaxScaler\n",
    "\n",
    "mms = MinMaxScaler().fit(fa1)\n",
    "fa1 = mms.transform(fa1)\n",
    "data['factor_1'] = fa1"
   ]
  },
  {
   "cell_type": "code",
   "execution_count": 15,
   "metadata": {
    "collapsed": false
   },
   "outputs": [
    {
     "data": {
      "text/plain": [
       "<matplotlib.axes._subplots.AxesSubplot at 0x28ee82e7710>"
      ]
     },
     "execution_count": 15,
     "metadata": {},
     "output_type": "execute_result"
    },
    {
     "data": {
      "image/png": "[encoded data removed]",
      "text/plain": [
       "<matplotlib.figure.Figure at 0x28ee82fa400>"
      ]
     },
     "metadata": {},
     "output_type": "display_data"
    }
   ],
   "source": [
    "data['factor_1'].hist(bins=25)"
   ]
  },
  {
   "cell_type": "markdown",
   "metadata": {},
   "source": [
    "# Factor 2"
   ]
  },
  {
   "cell_type": "code",
   "execution_count": 7,
   "metadata": {
    "collapsed": false
   },
   "outputs": [
    {
     "data": {
      "text/html": [
       "<div>\n",
       "<style>\n",
       "    .dataframe thead tr:only-child th {\n",
       "        text-align: right;\n",
       "    }\n",
       "\n",
       "    .dataframe thead th {\n",
       "        text-align: left;\n",
       "    }\n",
       "\n",
       "    .dataframe tbody tr th {\n",
       "        vertical-align: top;\n",
       "    }\n",
       "</style>\n",
       "<table border=\"1\" class=\"dataframe\">\n",
       "  <thead>\n",
       "    <tr style=\"text-align: right;\">\n",
       "      <th></th>\n",
       "      <th>1</th>\n",
       "    </tr>\n",
       "  </thead>\n",
       "  <tbody>\n",
       "    <tr>\n",
       "      <th>I have frequent mood swings.</th>\n",
       "      <td>1.043084</td>\n",
       "    </tr>\n",
       "    <tr>\n",
       "      <th>I change my mood a lot.</th>\n",
       "      <td>0.973750</td>\n",
       "    </tr>\n",
       "    <tr>\n",
       "      <th>I get upset easily.</th>\n",
       "      <td>0.934647</td>\n",
       "    </tr>\n",
       "    <tr>\n",
       "      <th>I get irritated easily.</th>\n",
       "      <td>0.894693</td>\n",
       "    </tr>\n",
       "    <tr>\n",
       "      <th>I often feel blue.</th>\n",
       "      <td>0.864622</td>\n",
       "    </tr>\n",
       "    <tr>\n",
       "      <th>I get stressed out easily.</th>\n",
       "      <td>0.815052</td>\n",
       "    </tr>\n",
       "    <tr>\n",
       "      <th>I am easily disturbed.</th>\n",
       "      <td>0.695949</td>\n",
       "    </tr>\n",
       "  </tbody>\n",
       "</table>\n",
       "</div>"
      ],
      "text/plain": [
       "                                     1\n",
       "I have frequent mood swings.  1.043084\n",
       "I change my mood a lot.       0.973750\n",
       "I get upset easily.           0.934647\n",
       "I get irritated easily.       0.894693\n",
       "I often feel blue.            0.864622\n",
       "I get stressed out easily.    0.815052\n",
       "I am easily disturbed.        0.695949"
      ]
     },
     "execution_count": 7,
     "metadata": {},
     "output_type": "execute_result"
    }
   ],
   "source": [
    "factor, remaining = get_factor(threshold=.69, remaining=remaining)\n",
    "\n",
    "# Neuroticism\n",
    "factor"
   ]
  },
  {
   "cell_type": "code",
   "execution_count": null,
   "metadata": {
    "collapsed": true
   },
   "outputs": [],
   "source": []
  },
  {
   "cell_type": "code",
   "execution_count": 8,
   "metadata": {
    "collapsed": false
   },
   "outputs": [
    {
     "data": {
      "text/html": [
       "<div>\n",
       "<style>\n",
       "    .dataframe thead tr:only-child th {\n",
       "        text-align: right;\n",
       "    }\n",
       "\n",
       "    .dataframe thead th {\n",
       "        text-align: left;\n",
       "    }\n",
       "\n",
       "    .dataframe tbody tr th {\n",
       "        vertical-align: top;\n",
       "    }\n",
       "</style>\n",
       "<table border=\"1\" class=\"dataframe\">\n",
       "  <thead>\n",
       "    <tr style=\"text-align: right;\">\n",
       "      <th></th>\n",
       "      <th>0</th>\n",
       "    </tr>\n",
       "  </thead>\n",
       "  <tbody>\n",
       "    <tr>\n",
       "      <th>I have frequent mood swings.</th>\n",
       "      <td>0.552610</td>\n",
       "    </tr>\n",
       "    <tr>\n",
       "      <th>I change my mood a lot.</th>\n",
       "      <td>0.534313</td>\n",
       "    </tr>\n",
       "    <tr>\n",
       "      <th>I get upset easily.</th>\n",
       "      <td>0.528063</td>\n",
       "    </tr>\n",
       "    <tr>\n",
       "      <th>I get irritated easily.</th>\n",
       "      <td>0.503807</td>\n",
       "    </tr>\n",
       "    <tr>\n",
       "      <th>I get stressed out easily.</th>\n",
       "      <td>0.453549</td>\n",
       "    </tr>\n",
       "    <tr>\n",
       "      <th>I often feel blue.</th>\n",
       "      <td>0.446918</td>\n",
       "    </tr>\n",
       "    <tr>\n",
       "      <th>I am easily disturbed.</th>\n",
       "      <td>0.402935</td>\n",
       "    </tr>\n",
       "  </tbody>\n",
       "</table>\n",
       "</div>"
      ],
      "text/plain": [
       "                                     0\n",
       "I have frequent mood swings.  0.552610\n",
       "I change my mood a lot.       0.534313\n",
       "I get upset easily.           0.528063\n",
       "I get irritated easily.       0.503807\n",
       "I get stressed out easily.    0.453549\n",
       "I often feel blue.            0.446918\n",
       "I am easily disturbed.        0.402935"
      ]
     },
     "execution_count": 8,
     "metadata": {},
     "output_type": "execute_result"
    }
   ],
   "source": [
    "intercorrelations(factor)"
   ]
  },
  {
   "cell_type": "code",
   "execution_count": 9,
   "metadata": {
    "collapsed": false
   },
   "outputs": [
    {
     "data": {
      "text/html": [
       "<div>\n",
       "<style>\n",
       "    .dataframe thead tr:only-child th {\n",
       "        text-align: right;\n",
       "    }\n",
       "\n",
       "    .dataframe thead th {\n",
       "        text-align: left;\n",
       "    }\n",
       "\n",
       "    .dataframe tbody tr th {\n",
       "        vertical-align: top;\n",
       "    }\n",
       "</style>\n",
       "<table border=\"1\" class=\"dataframe\">\n",
       "  <thead>\n",
       "    <tr style=\"text-align: right;\">\n",
       "      <th></th>\n",
       "      <th>correlation</th>\n",
       "    </tr>\n",
       "  </thead>\n",
       "  <tbody>\n",
       "    <tr>\n",
       "      <th>I have frequent mood swings.</th>\n",
       "      <td>1.000000</td>\n",
       "    </tr>\n",
       "    <tr>\n",
       "      <th>I change my mood a lot.</th>\n",
       "      <td>0.827954</td>\n",
       "    </tr>\n",
       "    <tr>\n",
       "      <th>I get upset easily.</th>\n",
       "      <td>0.553751</td>\n",
       "    </tr>\n",
       "    <tr>\n",
       "      <th>I often feel blue.</th>\n",
       "      <td>0.550588</td>\n",
       "    </tr>\n",
       "    <tr>\n",
       "      <th>I get irritated easily.</th>\n",
       "      <td>0.542046</td>\n",
       "    </tr>\n",
       "    <tr>\n",
       "      <th>I get stressed out easily.</th>\n",
       "      <td>0.441301</td>\n",
       "    </tr>\n",
       "    <tr>\n",
       "      <th>I am easily disturbed.</th>\n",
       "      <td>0.400020</td>\n",
       "    </tr>\n",
       "    <tr>\n",
       "      <th>I worry about things.</th>\n",
       "      <td>0.366616</td>\n",
       "    </tr>\n",
       "    <tr>\n",
       "      <th>I make a mess of things.</th>\n",
       "      <td>0.354297</td>\n",
       "    </tr>\n",
       "    <tr>\n",
       "      <th>I am relaxed most of the time.</th>\n",
       "      <td>-0.334318</td>\n",
       "    </tr>\n",
       "  </tbody>\n",
       "</table>\n",
       "</div>"
      ],
      "text/plain": [
       "                                correlation\n",
       "I have frequent mood swings.       1.000000\n",
       "I change my mood a lot.            0.827954\n",
       "I get upset easily.                0.553751\n",
       "I often feel blue.                 0.550588\n",
       "I get irritated easily.            0.542046\n",
       "I get stressed out easily.         0.441301\n",
       "I am easily disturbed.             0.400020\n",
       "I worry about things.              0.366616\n",
       "I make a mess of things.           0.354297\n",
       "I am relaxed most of the time.    -0.334318"
      ]
     },
     "execution_count": 9,
     "metadata": {},
     "output_type": "execute_result"
    }
   ],
   "source": [
    "corrs = absolute_correlations(factor.index[0], df=data)\n",
    "corrs.head(10)"
   ]
  },
  {
   "cell_type": "code",
   "execution_count": 10,
   "metadata": {
    "collapsed": false
   },
   "outputs": [
    {
     "data": {
      "text/plain": [
       "{'I am easily disturbed.',\n",
       " 'I change my mood a lot.',\n",
       " 'I get irritated easily.',\n",
       " 'I get stressed out easily.',\n",
       " 'I get upset easily.',\n",
       " 'I have frequent mood swings.',\n",
       " 'I often feel blue.'}"
      ]
     },
     "execution_count": 10,
     "metadata": {},
     "output_type": "execute_result"
    }
   ],
   "source": [
    "# Definitely all measuring neuroticism\n",
    "overlap(factor, corrs)"
   ]
  },
  {
   "cell_type": "code",
   "execution_count": null,
   "metadata": {
    "collapsed": true
   },
   "outputs": [],
   "source": []
  },
  {
   "cell_type": "code",
   "execution_count": 11,
   "metadata": {
    "collapsed": false
   },
   "outputs": [
    {
     "data": {
      "text/html": [
       "<div>\n",
       "<style>\n",
       "    .dataframe thead tr:only-child th {\n",
       "        text-align: right;\n",
       "    }\n",
       "\n",
       "    .dataframe thead th {\n",
       "        text-align: left;\n",
       "    }\n",
       "\n",
       "    .dataframe tbody tr th {\n",
       "        vertical-align: top;\n",
       "    }\n",
       "</style>\n",
       "<table border=\"1\" class=\"dataframe\">\n",
       "  <thead>\n",
       "    <tr style=\"text-align: right;\">\n",
       "      <th></th>\n",
       "      <th>1</th>\n",
       "    </tr>\n",
       "  </thead>\n",
       "  <tbody>\n",
       "    <tr>\n",
       "      <th>I am not really interested in others.</th>\n",
       "      <td>0.745484</td>\n",
       "    </tr>\n",
       "    <tr>\n",
       "      <th>I feel others' emotions.</th>\n",
       "      <td>-0.743416</td>\n",
       "    </tr>\n",
       "    <tr>\n",
       "      <th>I sympathize with others' feelings.</th>\n",
       "      <td>-0.737271</td>\n",
       "    </tr>\n",
       "    <tr>\n",
       "      <th>I am not interested in other people's problems.</th>\n",
       "      <td>0.721981</td>\n",
       "    </tr>\n",
       "    <tr>\n",
       "      <th>I am interested in people.</th>\n",
       "      <td>-0.651065</td>\n",
       "    </tr>\n",
       "    <tr>\n",
       "      <th>I take time out for others.</th>\n",
       "      <td>-0.612432</td>\n",
       "    </tr>\n",
       "    <tr>\n",
       "      <th>I have a soft heart.</th>\n",
       "      <td>-0.574142</td>\n",
       "    </tr>\n",
       "    <tr>\n",
       "      <th>I feel little concern for others.</th>\n",
       "      <td>0.566352</td>\n",
       "    </tr>\n",
       "    <tr>\n",
       "      <th>I make people feel at ease.</th>\n",
       "      <td>-0.533410</td>\n",
       "    </tr>\n",
       "    <tr>\n",
       "      <th>I insult people.</th>\n",
       "      <td>0.451584</td>\n",
       "    </tr>\n",
       "  </tbody>\n",
       "</table>\n",
       "</div>"
      ],
      "text/plain": [
       "                                                        1\n",
       "I am not really interested in others.            0.745484\n",
       "I feel others' emotions.                        -0.743416\n",
       "I sympathize with others' feelings.             -0.737271\n",
       "I am not interested in other people's problems.  0.721981\n",
       "I am interested in people.                      -0.651065\n",
       "I take time out for others.                     -0.612432\n",
       "I have a soft heart.                            -0.574142\n",
       "I feel little concern for others.                0.566352\n",
       "I make people feel at ease.                     -0.533410\n",
       "I insult people.                                 0.451584"
      ]
     },
     "execution_count": 11,
     "metadata": {},
     "output_type": "execute_result"
    }
   ],
   "source": [
    "factor, remaining = get_factor(threshold=.45, remaining=remaining)\n",
    "\n",
    "# Agreeableness\n",
    "factor"
   ]
  },
  {
   "cell_type": "code",
   "execution_count": 12,
   "metadata": {
    "collapsed": false
   },
   "outputs": [
    {
     "data": {
      "text/html": [
       "<div>\n",
       "<style>\n",
       "    .dataframe thead tr:only-child th {\n",
       "        text-align: right;\n",
       "    }\n",
       "\n",
       "    .dataframe thead th {\n",
       "        text-align: left;\n",
       "    }\n",
       "\n",
       "    .dataframe tbody tr th {\n",
       "        vertical-align: top;\n",
       "    }\n",
       "</style>\n",
       "<table border=\"1\" class=\"dataframe\">\n",
       "  <thead>\n",
       "    <tr style=\"text-align: right;\">\n",
       "      <th></th>\n",
       "      <th>0</th>\n",
       "    </tr>\n",
       "  </thead>\n",
       "  <tbody>\n",
       "    <tr>\n",
       "      <th>I sympathize with others' feelings.</th>\n",
       "      <td>0.438229</td>\n",
       "    </tr>\n",
       "    <tr>\n",
       "      <th>I feel others' emotions.</th>\n",
       "      <td>0.406503</td>\n",
       "    </tr>\n",
       "    <tr>\n",
       "      <th>I am not really interested in others.</th>\n",
       "      <td>0.396063</td>\n",
       "    </tr>\n",
       "    <tr>\n",
       "      <th>I am not interested in other people's problems.</th>\n",
       "      <td>0.390741</td>\n",
       "    </tr>\n",
       "    <tr>\n",
       "      <th>I take time out for others.</th>\n",
       "      <td>0.357330</td>\n",
       "    </tr>\n",
       "    <tr>\n",
       "      <th>I am interested in people.</th>\n",
       "      <td>0.346550</td>\n",
       "    </tr>\n",
       "    <tr>\n",
       "      <th>I have a soft heart.</th>\n",
       "      <td>0.330095</td>\n",
       "    </tr>\n",
       "    <tr>\n",
       "      <th>I make people feel at ease.</th>\n",
       "      <td>0.275829</td>\n",
       "    </tr>\n",
       "    <tr>\n",
       "      <th>I feel little concern for others.</th>\n",
       "      <td>0.259143</td>\n",
       "    </tr>\n",
       "    <tr>\n",
       "      <th>I insult people.</th>\n",
       "      <td>0.230967</td>\n",
       "    </tr>\n",
       "  </tbody>\n",
       "</table>\n",
       "</div>"
      ],
      "text/plain": [
       "                                                        0\n",
       "I sympathize with others' feelings.              0.438229\n",
       "I feel others' emotions.                         0.406503\n",
       "I am not really interested in others.            0.396063\n",
       "I am not interested in other people's problems.  0.390741\n",
       "I take time out for others.                      0.357330\n",
       "I am interested in people.                       0.346550\n",
       "I have a soft heart.                             0.330095\n",
       "I make people feel at ease.                      0.275829\n",
       "I feel little concern for others.                0.259143\n",
       "I insult people.                                 0.230967"
      ]
     },
     "execution_count": 12,
     "metadata": {},
     "output_type": "execute_result"
    }
   ],
   "source": [
    "intercorrelations(factor)"
   ]
  },
  {
   "cell_type": "code",
   "execution_count": 13,
   "metadata": {
    "collapsed": false
   },
   "outputs": [
    {
     "data": {
      "text/html": [
       "<div>\n",
       "<style>\n",
       "    .dataframe thead tr:only-child th {\n",
       "        text-align: right;\n",
       "    }\n",
       "\n",
       "    .dataframe thead th {\n",
       "        text-align: left;\n",
       "    }\n",
       "\n",
       "    .dataframe tbody tr th {\n",
       "        vertical-align: top;\n",
       "    }\n",
       "</style>\n",
       "<table border=\"1\" class=\"dataframe\">\n",
       "  <thead>\n",
       "    <tr style=\"text-align: right;\">\n",
       "      <th></th>\n",
       "      <th>correlation</th>\n",
       "    </tr>\n",
       "  </thead>\n",
       "  <tbody>\n",
       "    <tr>\n",
       "      <th>I am not really interested in others.</th>\n",
       "      <td>1.000000</td>\n",
       "    </tr>\n",
       "    <tr>\n",
       "      <th>I am interested in people.</th>\n",
       "      <td>-0.576172</td>\n",
       "    </tr>\n",
       "    <tr>\n",
       "      <th>I am not interested in other people's problems.</th>\n",
       "      <td>0.566997</td>\n",
       "    </tr>\n",
       "    <tr>\n",
       "      <th>I sympathize with others' feelings.</th>\n",
       "      <td>-0.442638</td>\n",
       "    </tr>\n",
       "    <tr>\n",
       "      <th>I feel others' emotions.</th>\n",
       "      <td>-0.400865</td>\n",
       "    </tr>\n",
       "    <tr>\n",
       "      <th>I feel comfortable around people.</th>\n",
       "      <td>-0.395960</td>\n",
       "    </tr>\n",
       "    <tr>\n",
       "      <th>I take time out for others.</th>\n",
       "      <td>-0.393673</td>\n",
       "    </tr>\n",
       "    <tr>\n",
       "      <th>I start conversations.</th>\n",
       "      <td>-0.355640</td>\n",
       "    </tr>\n",
       "    <tr>\n",
       "      <th>I talk to a lot of different people at parties.</th>\n",
       "      <td>-0.353660</td>\n",
       "    </tr>\n",
       "    <tr>\n",
       "      <th>I feel little concern for others.</th>\n",
       "      <td>0.351497</td>\n",
       "    </tr>\n",
       "  </tbody>\n",
       "</table>\n",
       "</div>"
      ],
      "text/plain": [
       "                                                 correlation\n",
       "I am not really interested in others.               1.000000\n",
       "I am interested in people.                         -0.576172\n",
       "I am not interested in other people's problems.     0.566997\n",
       "I sympathize with others' feelings.                -0.442638\n",
       "I feel others' emotions.                           -0.400865\n",
       "I feel comfortable around people.                  -0.395960\n",
       "I take time out for others.                        -0.393673\n",
       "I start conversations.                             -0.355640\n",
       "I talk to a lot of different people at parties.    -0.353660\n",
       "I feel little concern for others.                   0.351497"
      ]
     },
     "execution_count": 13,
     "metadata": {},
     "output_type": "execute_result"
    }
   ],
   "source": [
    "corrs = absolute_correlations(factor.index[0], df=data)\n",
    "corrs.head(10)"
   ]
  },
  {
   "cell_type": "code",
   "execution_count": 14,
   "metadata": {
    "collapsed": false
   },
   "outputs": [
    {
     "data": {
      "text/plain": [
       "{'I am interested in people.',\n",
       " \"I am not interested in other people's problems.\",\n",
       " 'I am not really interested in others.',\n",
       " 'I feel little concern for others.',\n",
       " \"I feel others' emotions.\",\n",
       " \"I sympathize with others' feelings.\",\n",
       " 'I take time out for others.'}"
      ]
     },
     "execution_count": 14,
     "metadata": {},
     "output_type": "execute_result"
    }
   ],
   "source": [
    "overlap(factor, corrs)"
   ]
  },
  {
   "cell_type": "code",
   "execution_count": null,
   "metadata": {
    "collapsed": true
   },
   "outputs": [],
   "source": []
  },
  {
   "cell_type": "code",
   "execution_count": 15,
   "metadata": {
    "collapsed": false
   },
   "outputs": [
    {
     "data": {
      "text/html": [
       "<div>\n",
       "<style>\n",
       "    .dataframe thead tr:only-child th {\n",
       "        text-align: right;\n",
       "    }\n",
       "\n",
       "    .dataframe thead th {\n",
       "        text-align: left;\n",
       "    }\n",
       "\n",
       "    .dataframe tbody tr th {\n",
       "        vertical-align: top;\n",
       "    }\n",
       "</style>\n",
       "<table border=\"1\" class=\"dataframe\">\n",
       "  <thead>\n",
       "    <tr style=\"text-align: right;\">\n",
       "      <th></th>\n",
       "      <th>1</th>\n",
       "    </tr>\n",
       "  </thead>\n",
       "  <tbody>\n",
       "    <tr>\n",
       "      <th>I often forget to put things back in their proper place.</th>\n",
       "      <td>0.790038</td>\n",
       "    </tr>\n",
       "    <tr>\n",
       "      <th>I make a mess of things.</th>\n",
       "      <td>0.744097</td>\n",
       "    </tr>\n",
       "    <tr>\n",
       "      <th>I get chores done right away.</th>\n",
       "      <td>-0.733860</td>\n",
       "    </tr>\n",
       "    <tr>\n",
       "      <th>I follow a schedule.</th>\n",
       "      <td>-0.704672</td>\n",
       "    </tr>\n",
       "    <tr>\n",
       "      <th>I am always prepared.</th>\n",
       "      <td>-0.680491</td>\n",
       "    </tr>\n",
       "    <tr>\n",
       "      <th>I leave my belongings around.</th>\n",
       "      <td>0.641353</td>\n",
       "    </tr>\n",
       "    <tr>\n",
       "      <th>I shirk my duties.</th>\n",
       "      <td>0.592405</td>\n",
       "    </tr>\n",
       "    <tr>\n",
       "      <th>I like order.</th>\n",
       "      <td>-0.545949</td>\n",
       "    </tr>\n",
       "    <tr>\n",
       "      <th>I am exacting in my work.</th>\n",
       "      <td>-0.506206</td>\n",
       "    </tr>\n",
       "    <tr>\n",
       "      <th>I pay attention to details.</th>\n",
       "      <td>-0.434435</td>\n",
       "    </tr>\n",
       "  </tbody>\n",
       "</table>\n",
       "</div>"
      ],
      "text/plain": [
       "                                                           1\n",
       "I often forget to put things back in their prop...  0.790038\n",
       "I make a mess of things.                            0.744097\n",
       "I get chores done right away.                      -0.733860\n",
       "I follow a schedule.                               -0.704672\n",
       "I am always prepared.                              -0.680491\n",
       "I leave my belongings around.                       0.641353\n",
       "I shirk my duties.                                  0.592405\n",
       "I like order.                                      -0.545949\n",
       "I am exacting in my work.                          -0.506206\n",
       "I pay attention to details.                        -0.434435"
      ]
     },
     "execution_count": 15,
     "metadata": {},
     "output_type": "execute_result"
    }
   ],
   "source": [
    "factor, remaining = get_factor(threshold=.43, remaining=remaining)\n",
    "\n",
    "# Conscientiousness\n",
    "factor"
   ]
  },
  {
   "cell_type": "code",
   "execution_count": 16,
   "metadata": {
    "collapsed": false
   },
   "outputs": [
    {
     "data": {
      "text/html": [
       "<div>\n",
       "<style>\n",
       "    .dataframe thead tr:only-child th {\n",
       "        text-align: right;\n",
       "    }\n",
       "\n",
       "    .dataframe thead th {\n",
       "        text-align: left;\n",
       "    }\n",
       "\n",
       "    .dataframe tbody tr th {\n",
       "        vertical-align: top;\n",
       "    }\n",
       "</style>\n",
       "<table border=\"1\" class=\"dataframe\">\n",
       "  <thead>\n",
       "    <tr style=\"text-align: right;\">\n",
       "      <th></th>\n",
       "      <th>0</th>\n",
       "    </tr>\n",
       "  </thead>\n",
       "  <tbody>\n",
       "    <tr>\n",
       "      <th>I get chores done right away.</th>\n",
       "      <td>0.340567</td>\n",
       "    </tr>\n",
       "    <tr>\n",
       "      <th>I often forget to put things back in their proper place.</th>\n",
       "      <td>0.337658</td>\n",
       "    </tr>\n",
       "    <tr>\n",
       "      <th>I follow a schedule.</th>\n",
       "      <td>0.334820</td>\n",
       "    </tr>\n",
       "    <tr>\n",
       "      <th>I am always prepared.</th>\n",
       "      <td>0.334029</td>\n",
       "    </tr>\n",
       "    <tr>\n",
       "      <th>I make a mess of things.</th>\n",
       "      <td>0.329915</td>\n",
       "    </tr>\n",
       "    <tr>\n",
       "      <th>I leave my belongings around.</th>\n",
       "      <td>0.289719</td>\n",
       "    </tr>\n",
       "    <tr>\n",
       "      <th>I shirk my duties.</th>\n",
       "      <td>0.287594</td>\n",
       "    </tr>\n",
       "    <tr>\n",
       "      <th>I like order.</th>\n",
       "      <td>0.286262</td>\n",
       "    </tr>\n",
       "    <tr>\n",
       "      <th>I am exacting in my work.</th>\n",
       "      <td>0.264007</td>\n",
       "    </tr>\n",
       "    <tr>\n",
       "      <th>I pay attention to details.</th>\n",
       "      <td>0.229430</td>\n",
       "    </tr>\n",
       "  </tbody>\n",
       "</table>\n",
       "</div>"
      ],
      "text/plain": [
       "                                                           0\n",
       "I get chores done right away.                       0.340567\n",
       "I often forget to put things back in their prop...  0.337658\n",
       "I follow a schedule.                                0.334820\n",
       "I am always prepared.                               0.334029\n",
       "I make a mess of things.                            0.329915\n",
       "I leave my belongings around.                       0.289719\n",
       "I shirk my duties.                                  0.287594\n",
       "I like order.                                       0.286262\n",
       "I am exacting in my work.                           0.264007\n",
       "I pay attention to details.                         0.229430"
      ]
     },
     "execution_count": 16,
     "metadata": {},
     "output_type": "execute_result"
    }
   ],
   "source": [
    "intercorrelations(factor)"
   ]
  },
  {
   "cell_type": "code",
   "execution_count": 17,
   "metadata": {
    "collapsed": false
   },
   "outputs": [
    {
     "data": {
      "text/html": [
       "<div>\n",
       "<style>\n",
       "    .dataframe thead tr:only-child th {\n",
       "        text-align: right;\n",
       "    }\n",
       "\n",
       "    .dataframe thead th {\n",
       "        text-align: left;\n",
       "    }\n",
       "\n",
       "    .dataframe tbody tr th {\n",
       "        vertical-align: top;\n",
       "    }\n",
       "</style>\n",
       "<table border=\"1\" class=\"dataframe\">\n",
       "  <thead>\n",
       "    <tr style=\"text-align: right;\">\n",
       "      <th></th>\n",
       "      <th>correlation</th>\n",
       "    </tr>\n",
       "  </thead>\n",
       "  <tbody>\n",
       "    <tr>\n",
       "      <th>I often forget to put things back in their proper place.</th>\n",
       "      <td>1.000000</td>\n",
       "    </tr>\n",
       "    <tr>\n",
       "      <th>I leave my belongings around.</th>\n",
       "      <td>0.514156</td>\n",
       "    </tr>\n",
       "    <tr>\n",
       "      <th>I make a mess of things.</th>\n",
       "      <td>0.465215</td>\n",
       "    </tr>\n",
       "    <tr>\n",
       "      <th>I get chores done right away.</th>\n",
       "      <td>-0.392419</td>\n",
       "    </tr>\n",
       "    <tr>\n",
       "      <th>I follow a schedule.</th>\n",
       "      <td>-0.323867</td>\n",
       "    </tr>\n",
       "    <tr>\n",
       "      <th>I am always prepared.</th>\n",
       "      <td>-0.313593</td>\n",
       "    </tr>\n",
       "    <tr>\n",
       "      <th>I shirk my duties.</th>\n",
       "      <td>0.311953</td>\n",
       "    </tr>\n",
       "    <tr>\n",
       "      <th>I like order.</th>\n",
       "      <td>-0.305835</td>\n",
       "    </tr>\n",
       "    <tr>\n",
       "      <th>I pay attention to details.</th>\n",
       "      <td>-0.212707</td>\n",
       "    </tr>\n",
       "    <tr>\n",
       "      <th>I am exacting in my work.</th>\n",
       "      <td>-0.199176</td>\n",
       "    </tr>\n",
       "  </tbody>\n",
       "</table>\n",
       "</div>"
      ],
      "text/plain": [
       "                                                    correlation\n",
       "I often forget to put things back in their prop...     1.000000\n",
       "I leave my belongings around.                          0.514156\n",
       "I make a mess of things.                               0.465215\n",
       "I get chores done right away.                         -0.392419\n",
       "I follow a schedule.                                  -0.323867\n",
       "I am always prepared.                                 -0.313593\n",
       "I shirk my duties.                                     0.311953\n",
       "I like order.                                         -0.305835\n",
       "I pay attention to details.                           -0.212707\n",
       "I am exacting in my work.                             -0.199176"
      ]
     },
     "execution_count": 17,
     "metadata": {},
     "output_type": "execute_result"
    }
   ],
   "source": [
    "corrs = absolute_correlations(factor.index[0], df=data)\n",
    "corrs.head(10)"
   ]
  },
  {
   "cell_type": "code",
   "execution_count": 18,
   "metadata": {
    "collapsed": false
   },
   "outputs": [
    {
     "data": {
      "text/plain": [
       "{'I am always prepared.',\n",
       " 'I am exacting in my work.',\n",
       " 'I follow a schedule.',\n",
       " 'I get chores done right away.',\n",
       " 'I leave my belongings around.',\n",
       " 'I like order.',\n",
       " 'I make a mess of things.',\n",
       " 'I often forget to put things back in their proper place.',\n",
       " 'I pay attention to details.',\n",
       " 'I shirk my duties.'}"
      ]
     },
     "execution_count": 18,
     "metadata": {},
     "output_type": "execute_result"
    }
   ],
   "source": [
    "overlap(factor, corrs)"
   ]
  },
  {
   "cell_type": "code",
   "execution_count": null,
   "metadata": {
    "collapsed": true
   },
   "outputs": [],
   "source": []
  }
 ],
 "metadata": {
  "kernelspec": {
   "display_name": "Python 3",
   "language": "python",
   "name": "python3"
  },
  "language_info": {
   "codemirror_mode": {
    "name": "ipython",
    "version": 3
   },
   "file_extension": ".py",
   "mimetype": "text/x-python",
   "name": "python",
   "nbconvert_exporter": "python",
   "pygments_lexer": "ipython3",
   "version": "3.6.0"
  }
 },
 "nbformat": 4,
 "nbformat_minor": 2
}
