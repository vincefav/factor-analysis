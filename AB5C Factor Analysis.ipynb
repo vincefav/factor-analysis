{
 "cells": [
  {
   "cell_type": "code",
   "execution_count": 1,
   "metadata": {
    "collapsed": false
   },
   "outputs": [
    {
     "name": "stdout",
     "output_type": "stream",
     "text": [
      "Populating the interactive namespace from numpy and matplotlib\n"
     ]
    }
   ],
   "source": [
    "import pandas as pd\n",
    "import numpy as np\n",
    "import seaborn as sns\n",
    "sns.set_style('dark')\n",
    "pd.set_option('display.float_format', lambda x: '{:.3f}'.format(x))\n",
    "\n",
    "%pylab inline"
   ]
  },
  {
   "cell_type": "code",
   "execution_count": 2,
   "metadata": {
    "collapsed": false
   },
   "outputs": [
    {
     "data": {
      "text/plain": [
       "(87, 512)"
      ]
     },
     "execution_count": 2,
     "metadata": {},
     "output_type": "execute_result"
    }
   ],
   "source": [
    "# Pre-wrangled data\n",
    "data = pd.read_csv('data_factor_analysis.csv')\n",
    "data = data[[i for i in data.columns if 'Unnamed' not in i]] # fix import bug\n",
    "\n",
    "data.shape"
   ]
  },
  {
   "cell_type": "code",
   "execution_count": 3,
   "metadata": {
    "collapsed": false
   },
   "outputs": [
    {
     "data": {
      "text/html": [
       "<div>\n",
       "<style>\n",
       "    .dataframe thead tr:only-child th {\n",
       "        text-align: right;\n",
       "    }\n",
       "\n",
       "    .dataframe thead th {\n",
       "        text-align: left;\n",
       "    }\n",
       "\n",
       "    .dataframe tbody tr th {\n",
       "        vertical-align: top;\n",
       "    }\n",
       "</style>\n",
       "<table border=\"1\" class=\"dataframe\">\n",
       "  <thead>\n",
       "    <tr style=\"text-align: right;\">\n",
       "      <th></th>\n",
       "      <th>iacceptpeopleastheyare</th>\n",
       "      <th>iaccomplishmyworkontime</th>\n",
       "      <th>iactattheexpenseofothers</th>\n",
       "      <th>iactcomfortablywithothers</th>\n",
       "      <th>iactwildandcrazy</th>\n",
       "      <th>iadapteasilytonewsituations</th>\n",
       "      <th>ialwaysknowwhatiamdoing</th>\n",
       "      <th>iamacreatureofhabit</th>\n",
       "      <th>iamapersonwhosemoodsgoupanddowneasily</th>\n",
       "      <th>iamaveryprivateperson</th>\n",
       "      <th>...</th>\n",
       "      <th>iwarmupquicklytoothers</th>\n",
       "      <th>iwastemytime</th>\n",
       "      <th>iwearmyheartonmysleeve</th>\n",
       "      <th>iwilldoanythingforothers</th>\n",
       "      <th>iwillnotprobedeeplyintoasubject</th>\n",
       "      <th>iworkaccordingtoaroutine</th>\n",
       "      <th>iworkonimprovingmyself</th>\n",
       "      <th>iworryaboutthings</th>\n",
       "      <th>iwouldnevercheatonmytaxes</th>\n",
       "      <th>iwouldntharmafly</th>\n",
       "    </tr>\n",
       "  </thead>\n",
       "  <tbody>\n",
       "    <tr>\n",
       "      <th>0</th>\n",
       "      <td>6</td>\n",
       "      <td>5</td>\n",
       "      <td>1</td>\n",
       "      <td>6</td>\n",
       "      <td>1</td>\n",
       "      <td>3</td>\n",
       "      <td>1</td>\n",
       "      <td>6</td>\n",
       "      <td>4</td>\n",
       "      <td>6</td>\n",
       "      <td>...</td>\n",
       "      <td>5</td>\n",
       "      <td>6</td>\n",
       "      <td>6</td>\n",
       "      <td>6</td>\n",
       "      <td>1</td>\n",
       "      <td>5</td>\n",
       "      <td>7</td>\n",
       "      <td>7</td>\n",
       "      <td>7</td>\n",
       "      <td>2</td>\n",
       "    </tr>\n",
       "    <tr>\n",
       "      <th>1</th>\n",
       "      <td>2</td>\n",
       "      <td>7</td>\n",
       "      <td>1</td>\n",
       "      <td>4</td>\n",
       "      <td>5</td>\n",
       "      <td>6</td>\n",
       "      <td>5</td>\n",
       "      <td>5</td>\n",
       "      <td>6</td>\n",
       "      <td>2</td>\n",
       "      <td>...</td>\n",
       "      <td>7</td>\n",
       "      <td>3</td>\n",
       "      <td>5</td>\n",
       "      <td>5</td>\n",
       "      <td>1</td>\n",
       "      <td>6</td>\n",
       "      <td>7</td>\n",
       "      <td>6</td>\n",
       "      <td>7</td>\n",
       "      <td>7</td>\n",
       "    </tr>\n",
       "    <tr>\n",
       "      <th>2</th>\n",
       "      <td>6</td>\n",
       "      <td>6</td>\n",
       "      <td>4</td>\n",
       "      <td>6</td>\n",
       "      <td>3</td>\n",
       "      <td>5</td>\n",
       "      <td>3</td>\n",
       "      <td>5</td>\n",
       "      <td>6</td>\n",
       "      <td>6</td>\n",
       "      <td>...</td>\n",
       "      <td>5</td>\n",
       "      <td>4</td>\n",
       "      <td>3</td>\n",
       "      <td>4</td>\n",
       "      <td>2</td>\n",
       "      <td>6</td>\n",
       "      <td>6</td>\n",
       "      <td>6</td>\n",
       "      <td>4</td>\n",
       "      <td>1</td>\n",
       "    </tr>\n",
       "    <tr>\n",
       "      <th>3</th>\n",
       "      <td>7</td>\n",
       "      <td>7</td>\n",
       "      <td>2</td>\n",
       "      <td>4</td>\n",
       "      <td>3</td>\n",
       "      <td>4</td>\n",
       "      <td>4</td>\n",
       "      <td>7</td>\n",
       "      <td>2</td>\n",
       "      <td>4</td>\n",
       "      <td>...</td>\n",
       "      <td>4</td>\n",
       "      <td>3</td>\n",
       "      <td>5</td>\n",
       "      <td>4</td>\n",
       "      <td>4</td>\n",
       "      <td>6</td>\n",
       "      <td>7</td>\n",
       "      <td>6</td>\n",
       "      <td>7</td>\n",
       "      <td>2</td>\n",
       "    </tr>\n",
       "    <tr>\n",
       "      <th>4</th>\n",
       "      <td>7</td>\n",
       "      <td>6</td>\n",
       "      <td>1</td>\n",
       "      <td>5</td>\n",
       "      <td>4</td>\n",
       "      <td>5</td>\n",
       "      <td>5</td>\n",
       "      <td>4</td>\n",
       "      <td>1</td>\n",
       "      <td>5</td>\n",
       "      <td>...</td>\n",
       "      <td>1</td>\n",
       "      <td>4</td>\n",
       "      <td>1</td>\n",
       "      <td>1</td>\n",
       "      <td>3</td>\n",
       "      <td>7</td>\n",
       "      <td>7</td>\n",
       "      <td>4</td>\n",
       "      <td>7</td>\n",
       "      <td>1</td>\n",
       "    </tr>\n",
       "  </tbody>\n",
       "</table>\n",
       "<p>5 rows × 512 columns</p>\n",
       "</div>"
      ],
      "text/plain": [
       "   iacceptpeopleastheyare  iaccomplishmyworkontime  iactattheexpenseofothers  \\\n",
       "0                       6                        5                         1   \n",
       "1                       2                        7                         1   \n",
       "2                       6                        6                         4   \n",
       "3                       7                        7                         2   \n",
       "4                       7                        6                         1   \n",
       "\n",
       "   iactcomfortablywithothers  iactwildandcrazy  iadapteasilytonewsituations  \\\n",
       "0                          6                 1                            3   \n",
       "1                          4                 5                            6   \n",
       "2                          6                 3                            5   \n",
       "3                          4                 3                            4   \n",
       "4                          5                 4                            5   \n",
       "\n",
       "   ialwaysknowwhatiamdoing  iamacreatureofhabit  \\\n",
       "0                        1                    6   \n",
       "1                        5                    5   \n",
       "2                        3                    5   \n",
       "3                        4                    7   \n",
       "4                        5                    4   \n",
       "\n",
       "   iamapersonwhosemoodsgoupanddowneasily  iamaveryprivateperson  \\\n",
       "0                                      4                      6   \n",
       "1                                      6                      2   \n",
       "2                                      6                      6   \n",
       "3                                      2                      4   \n",
       "4                                      1                      5   \n",
       "\n",
       "         ...         iwarmupquicklytoothers  iwastemytime  \\\n",
       "0        ...                              5             6   \n",
       "1        ...                              7             3   \n",
       "2        ...                              5             4   \n",
       "3        ...                              4             3   \n",
       "4        ...                              1             4   \n",
       "\n",
       "   iwearmyheartonmysleeve  iwilldoanythingforothers  \\\n",
       "0                       6                         6   \n",
       "1                       5                         5   \n",
       "2                       3                         4   \n",
       "3                       5                         4   \n",
       "4                       1                         1   \n",
       "\n",
       "   iwillnotprobedeeplyintoasubject  iworkaccordingtoaroutine  \\\n",
       "0                                1                         5   \n",
       "1                                1                         6   \n",
       "2                                2                         6   \n",
       "3                                4                         6   \n",
       "4                                3                         7   \n",
       "\n",
       "   iworkonimprovingmyself  iworryaboutthings  iwouldnevercheatonmytaxes  \\\n",
       "0                       7                  7                          7   \n",
       "1                       7                  6                          7   \n",
       "2                       6                  6                          4   \n",
       "3                       7                  6                          7   \n",
       "4                       7                  4                          7   \n",
       "\n",
       "   iwouldntharmafly  \n",
       "0                 2  \n",
       "1                 7  \n",
       "2                 1  \n",
       "3                 2  \n",
       "4                 1  \n",
       "\n",
       "[5 rows x 512 columns]"
      ]
     },
     "execution_count": 3,
     "metadata": {},
     "output_type": "execute_result"
    }
   ],
   "source": [
    "data.head()"
   ]
  },
  {
   "cell_type": "markdown",
   "metadata": {},
   "source": [
    "First we need to determine the appropriate number of factors. I propose doing this by taking the value of the **4th-smallest factor loading**.\n",
    "\n",
    "Why 4th? Guadagnoli & Velicer (1988) consider a factor to be reliable if it has 4 or more loadings of at least 0.6, regardless of the sample size.\n",
    "\n",
    "Meanwhile, MacCallum et al. (1999, 2001) assert that I should use a minimum value of 0.65, considering my sample size. (See http://imaging.mrc-cbu.cam.ac.uk/statswiki/FAQ/thresholds for more tips)\n",
    "\n",
    "So let's see how many factors have a minimum loading of at least 0.65."
   ]
  },
  {
   "cell_type": "code",
   "execution_count": 4,
   "metadata": {
    "collapsed": false
   },
   "outputs": [
    {
     "name": "stdout",
     "output_type": "stream",
     "text": [
      "1 0.979632797945\n",
      "2 0.986824826141\n",
      "3 1.01290333714\n",
      "4 0.903956116985\n",
      "5 0.830940201918\n",
      "6 0.713265078599\n",
      "7 0.656319673056\n",
      "8 0.581632918254\n",
      "9 0.585767959393\n",
      "10 0.672272658728\n",
      "11 0.565105170865\n",
      "12 0.558114134153\n",
      "13 0.610828774616\n",
      "14 0.510055756108\n",
      "15 0.534332953421\n",
      "16 0.507440358623\n",
      "17 0.485952740222\n",
      "18 0.528751983721\n",
      "19 0.481311772907\n",
      "20 0.449536798238\n"
     ]
    }
   ],
   "source": [
    "from sklearn.decomposition import FactorAnalysis\n",
    "\n",
    "fa = FactorAnalysis(n_components=20).fit(data)\n",
    "fa1 = fa.transform(data)\n",
    "\n",
    "# Stick it in a dataframe\n",
    "factors = pd.DataFrame(fa.components_, columns=data.columns).T\n",
    "\n",
    "for i in factors.columns:\n",
    "    factors['absol'] = abs(factors[i])\n",
    "    factors_sorted = factors.sort_values('absol', ascending=False).head(4) # Top 4\n",
    "    print(i+1, factors_sorted['absol'].min())                              # Min value\n",
    "    del factors['absol']"
   ]
  },
  {
   "cell_type": "markdown",
   "metadata": {},
   "source": [
    "Notice that we find less and less variability as we add more factors! For machine learning, there isn't much harm in using too many factors, but in psychometrics, we need to follow the rule outlined above.\n",
    "\n",
    "7 appears to be a good number for this dataset. Let's take a look at what constitutes each factor."
   ]
  },
  {
   "cell_type": "code",
   "execution_count": 5,
   "metadata": {
    "collapsed": false
   },
   "outputs": [
    {
     "name": "stdout",
     "output_type": "stream",
     "text": [
      "1\n",
      "Axes(0.125,0.125;0.775x0.755)\n"
     ]
    },
    {
     "data": {
      "image/png": "[encoded data removed]",
      "text/plain": [
       "<matplotlib.figure.Figure at 0x2880cd8b160>"
      ]
     },
     "metadata": {},
     "output_type": "display_data"
    },
    {
     "name": "stdout",
     "output_type": "stream",
     "text": [
      "2\n",
      "Axes(0.125,0.125;0.775x0.755)\n"
     ]
    },
    {
     "data": {
      "image/png": "[encoded data removed]",
      "text/plain": [
       "<matplotlib.figure.Figure at 0x2880ce48b00>"
      ]
     },
     "metadata": {},
     "output_type": "display_data"
    },
    {
     "name": "stdout",
     "output_type": "stream",
     "text": [
      "3\n",
      "Axes(0.125,0.125;0.775x0.755)\n"
     ]
    },
    {
     "data": {
      "image/png": "[encoded data removed]",
      "text/plain": [
       "<matplotlib.figure.Figure at 0x2880d1f40f0>"
      ]
     },
     "metadata": {},
     "output_type": "display_data"
    },
    {
     "name": "stdout",
     "output_type": "stream",
     "text": [
      "4\n",
      "Axes(0.125,0.125;0.775x0.755)\n"
     ]
    },
    {
     "data": {
      "image/png": "[encoded data removed]",
      "text/plain": [
       "<matplotlib.figure.Figure at 0x2880d267d68>"
      ]
     },
     "metadata": {},
     "output_type": "display_data"
    },
    {
     "name": "stdout",
     "output_type": "stream",
     "text": [
      "5\n",
      "Axes(0.125,0.125;0.775x0.755)\n"
     ]
    },
    {
     "data": {
      "image/png": "[encoded data removed]",
      "text/plain": [
       "<matplotlib.figure.Figure at 0x2880d363ef0>"
      ]
     },
     "metadata": {},
     "output_type": "display_data"
    },
    {
     "name": "stdout",
     "output_type": "stream",
     "text": [
      "6\n",
      "Axes(0.125,0.125;0.775x0.755)\n"
     ]
    },
    {
     "data": {
      "image/png": "[encoded data removed]",
      "text/plain": [
       "<matplotlib.figure.Figure at 0x2880d2a1da0>"
      ]
     },
     "metadata": {},
     "output_type": "display_data"
    },
    {
     "name": "stdout",
     "output_type": "stream",
     "text": [
      "7\n",
      "Axes(0.125,0.125;0.775x0.755)\n"
     ]
    },
    {
     "data": {
      "image/png": "[encoded data removed]",
      "text/plain": [
       "<matplotlib.figure.Figure at 0x2880d4b7b70>"
      ]
     },
     "metadata": {},
     "output_type": "display_data"
    }
   ],
   "source": [
    "from sklearn.decomposition import FactorAnalysis, PCA\n",
    "\n",
    "n_comp = 7\n",
    "\n",
    "fa = PCA(n_components=n_comp).fit(data)\n",
    "factors = fa.transform(data)\n",
    "\n",
    "# Scale values\n",
    "mms = MinMaxScaler().fit(factors)\n",
    "factors = mms.transform(factors)\n",
    "\n",
    "factors = pd.DataFrame(factors, columns=[str(n) for n in np.arange(1,n_comp+1,1)])\n",
    "\n",
    "# Let's look at the histograms as well...\n",
    "for i in factors.columns:\n",
    "    print(i)\n",
    "    print(factors[i].hist(bins=7))\n",
    "    plt.show()"
   ]
  },
  {
   "cell_type": "markdown",
   "metadata": {},
   "source": [
    "Those are some nice-looking distributions!\n",
    "\n",
    "Now let's examine which items correlate with each factor."
   ]
  },
  {
   "cell_type": "code",
   "execution_count": 6,
   "metadata": {
    "collapsed": false
   },
   "outputs": [
    {
     "data": {
      "text/html": [
       "<div>\n",
       "<style>\n",
       "    .dataframe thead tr:only-child th {\n",
       "        text-align: right;\n",
       "    }\n",
       "\n",
       "    .dataframe thead th {\n",
       "        text-align: left;\n",
       "    }\n",
       "\n",
       "    .dataframe tbody tr th {\n",
       "        vertical-align: top;\n",
       "    }\n",
       "</style>\n",
       "<table border=\"1\" class=\"dataframe\">\n",
       "  <thead>\n",
       "    <tr style=\"text-align: right;\">\n",
       "      <th></th>\n",
       "      <th>0</th>\n",
       "    </tr>\n",
       "  </thead>\n",
       "  <tbody>\n",
       "    <tr>\n",
       "      <th>itakecharge</th>\n",
       "      <td>0.677</td>\n",
       "    </tr>\n",
       "    <tr>\n",
       "      <th>icomeupwithboldplans</th>\n",
       "      <td>0.644</td>\n",
       "    </tr>\n",
       "    <tr>\n",
       "      <th>iexpressmyselfeasily</th>\n",
       "      <td>0.631</td>\n",
       "    </tr>\n",
       "    <tr>\n",
       "      <th>iturnplansintoactions</th>\n",
       "      <td>0.624</td>\n",
       "    </tr>\n",
       "    <tr>\n",
       "      <th>iwaitforotherstoleadtheway</th>\n",
       "      <td>-0.620</td>\n",
       "    </tr>\n",
       "  </tbody>\n",
       "</table>\n",
       "</div>"
      ],
      "text/plain": [
       "                                0\n",
       "itakecharge                 0.677\n",
       "icomeupwithboldplans        0.644\n",
       "iexpressmyselfeasily        0.631\n",
       "iturnplansintoactions       0.624\n",
       "iwaitforotherstoleadtheway -0.620"
      ]
     },
     "execution_count": 6,
     "metadata": {},
     "output_type": "execute_result"
    }
   ],
   "source": [
    "def show_items(factor):\n",
    "    '''Returns a dataframe of correlations, sorted\n",
    "    by absolute value'''\n",
    "    f = pd.DataFrame(data.corrwith(factors[str(factor)]))\n",
    "    f['absol'] = abs(f[0])\n",
    "    return f.sort_values('absol', ascending=False).drop('absol', axis=1).head()\n",
    "\n",
    "# This is like a mixture of extraversion and assertiveness\n",
    "show_items(1)"
   ]
  },
  {
   "cell_type": "code",
   "execution_count": 7,
   "metadata": {
    "collapsed": false
   },
   "outputs": [
    {
     "data": {
      "text/html": [
       "<div>\n",
       "<style>\n",
       "    .dataframe thead tr:only-child th {\n",
       "        text-align: right;\n",
       "    }\n",
       "\n",
       "    .dataframe thead th {\n",
       "        text-align: left;\n",
       "    }\n",
       "\n",
       "    .dataframe tbody tr th {\n",
       "        vertical-align: top;\n",
       "    }\n",
       "</style>\n",
       "<table border=\"1\" class=\"dataframe\">\n",
       "  <thead>\n",
       "    <tr style=\"text-align: right;\">\n",
       "      <th></th>\n",
       "      <th>0</th>\n",
       "    </tr>\n",
       "  </thead>\n",
       "  <tbody>\n",
       "    <tr>\n",
       "      <th>iworryaboutthings</th>\n",
       "      <td>0.774</td>\n",
       "    </tr>\n",
       "    <tr>\n",
       "      <th>igetoverwhelmedbyemotions</th>\n",
       "      <td>0.692</td>\n",
       "    </tr>\n",
       "    <tr>\n",
       "      <th>iameasilyhurt</th>\n",
       "      <td>0.652</td>\n",
       "    </tr>\n",
       "    <tr>\n",
       "      <th>iexperiencemyemotionsintensely</th>\n",
       "      <td>0.611</td>\n",
       "    </tr>\n",
       "    <tr>\n",
       "      <th>igetstressedouteasily</th>\n",
       "      <td>0.605</td>\n",
       "    </tr>\n",
       "  </tbody>\n",
       "</table>\n",
       "</div>"
      ],
      "text/plain": [
       "                                   0\n",
       "iworryaboutthings              0.774\n",
       "igetoverwhelmedbyemotions      0.692\n",
       "iameasilyhurt                  0.652\n",
       "iexperiencemyemotionsintensely 0.611\n",
       "igetstressedouteasily          0.605"
      ]
     },
     "execution_count": 7,
     "metadata": {},
     "output_type": "execute_result"
    }
   ],
   "source": [
    "# Neuroticism and sensitivity to stress\n",
    "show_items(2)"
   ]
  },
  {
   "cell_type": "code",
   "execution_count": 8,
   "metadata": {
    "collapsed": false
   },
   "outputs": [
    {
     "data": {
      "text/html": [
       "<div>\n",
       "<style>\n",
       "    .dataframe thead tr:only-child th {\n",
       "        text-align: right;\n",
       "    }\n",
       "\n",
       "    .dataframe thead th {\n",
       "        text-align: left;\n",
       "    }\n",
       "\n",
       "    .dataframe tbody tr th {\n",
       "        vertical-align: top;\n",
       "    }\n",
       "</style>\n",
       "<table border=\"1\" class=\"dataframe\">\n",
       "  <thead>\n",
       "    <tr style=\"text-align: right;\">\n",
       "      <th></th>\n",
       "      <th>0</th>\n",
       "    </tr>\n",
       "  </thead>\n",
       "  <tbody>\n",
       "    <tr>\n",
       "      <th>imakedemandsonothers</th>\n",
       "      <td>0.594</td>\n",
       "    </tr>\n",
       "    <tr>\n",
       "      <th>iinsultpeople</th>\n",
       "      <td>0.567</td>\n",
       "    </tr>\n",
       "    <tr>\n",
       "      <th>iseekconflict</th>\n",
       "      <td>0.553</td>\n",
       "    </tr>\n",
       "    <tr>\n",
       "      <th>ibelievethatiambetterthanothers</th>\n",
       "      <td>0.552</td>\n",
       "    </tr>\n",
       "    <tr>\n",
       "      <th>ithinktoohighlyofmyself</th>\n",
       "      <td>0.549</td>\n",
       "    </tr>\n",
       "  </tbody>\n",
       "</table>\n",
       "</div>"
      ],
      "text/plain": [
       "                                    0\n",
       "imakedemandsonothers            0.594\n",
       "iinsultpeople                   0.567\n",
       "iseekconflict                   0.553\n",
       "ibelievethatiambetterthanothers 0.552\n",
       "ithinktoohighlyofmyself         0.549"
      ]
     },
     "execution_count": 8,
     "metadata": {},
     "output_type": "execute_result"
    }
   ],
   "source": [
    "# (Dis)agreeableness\n",
    "show_items(3)"
   ]
  },
  {
   "cell_type": "code",
   "execution_count": 9,
   "metadata": {
    "collapsed": false
   },
   "outputs": [
    {
     "data": {
      "text/html": [
       "<div>\n",
       "<style>\n",
       "    .dataframe thead tr:only-child th {\n",
       "        text-align: right;\n",
       "    }\n",
       "\n",
       "    .dataframe thead th {\n",
       "        text-align: left;\n",
       "    }\n",
       "\n",
       "    .dataframe tbody tr th {\n",
       "        vertical-align: top;\n",
       "    }\n",
       "</style>\n",
       "<table border=\"1\" class=\"dataframe\">\n",
       "  <thead>\n",
       "    <tr style=\"text-align: right;\">\n",
       "      <th></th>\n",
       "      <th>0</th>\n",
       "    </tr>\n",
       "  </thead>\n",
       "  <tbody>\n",
       "    <tr>\n",
       "      <th>iprefertobealone</th>\n",
       "      <td>-0.570</td>\n",
       "    </tr>\n",
       "    <tr>\n",
       "      <th>idontmindeatingalone</th>\n",
       "      <td>-0.513</td>\n",
       "    </tr>\n",
       "    <tr>\n",
       "      <th>ishowmyfeelings</th>\n",
       "      <td>0.512</td>\n",
       "    </tr>\n",
       "    <tr>\n",
       "      <th>iamopenaboutmyfeelings</th>\n",
       "      <td>0.507</td>\n",
       "    </tr>\n",
       "    <tr>\n",
       "      <th>iseekquiet</th>\n",
       "      <td>-0.506</td>\n",
       "    </tr>\n",
       "  </tbody>\n",
       "</table>\n",
       "</div>"
      ],
      "text/plain": [
       "                            0\n",
       "iprefertobealone       -0.570\n",
       "idontmindeatingalone   -0.513\n",
       "ishowmyfeelings         0.512\n",
       "iamopenaboutmyfeelings  0.507\n",
       "iseekquiet             -0.506"
      ]
     },
     "execution_count": 9,
     "metadata": {},
     "output_type": "execute_result"
    }
   ],
   "source": [
    "# I'd call this one extraversion \"proper\"\n",
    "show_items(4)"
   ]
  },
  {
   "cell_type": "code",
   "execution_count": 10,
   "metadata": {
    "collapsed": false
   },
   "outputs": [
    {
     "data": {
      "text/html": [
       "<div>\n",
       "<style>\n",
       "    .dataframe thead tr:only-child th {\n",
       "        text-align: right;\n",
       "    }\n",
       "\n",
       "    .dataframe thead th {\n",
       "        text-align: left;\n",
       "    }\n",
       "\n",
       "    .dataframe tbody tr th {\n",
       "        vertical-align: top;\n",
       "    }\n",
       "</style>\n",
       "<table border=\"1\" class=\"dataframe\">\n",
       "  <thead>\n",
       "    <tr style=\"text-align: right;\">\n",
       "      <th></th>\n",
       "      <th>0</th>\n",
       "    </tr>\n",
       "  </thead>\n",
       "  <tbody>\n",
       "    <tr>\n",
       "      <th>iexperienceveryfewemotionalhighsandlows</th>\n",
       "      <td>0.554</td>\n",
       "    </tr>\n",
       "    <tr>\n",
       "      <th>iseldomnoticetheemotionalaspectsofpaintingsandpictures</th>\n",
       "      <td>0.522</td>\n",
       "    </tr>\n",
       "    <tr>\n",
       "      <th>iseldomdaydream</th>\n",
       "      <td>0.510</td>\n",
       "    </tr>\n",
       "    <tr>\n",
       "      <th>idonotlikeart</th>\n",
       "      <td>0.501</td>\n",
       "    </tr>\n",
       "    <tr>\n",
       "      <th>iseldomgetemotional</th>\n",
       "      <td>0.498</td>\n",
       "    </tr>\n",
       "  </tbody>\n",
       "</table>\n",
       "</div>"
      ],
      "text/plain": [
       "                                                       0\n",
       "iexperienceveryfewemotionalhighsandlows            0.554\n",
       "iseldomnoticetheemotionalaspectsofpaintingsandp... 0.522\n",
       "iseldomdaydream                                    0.510\n",
       "idonotlikeart                                      0.501\n",
       "iseldomgetemotional                                0.498"
      ]
     },
     "execution_count": 10,
     "metadata": {},
     "output_type": "execute_result"
    }
   ],
   "source": [
    "# Openness to experience\n",
    "show_items(5)"
   ]
  },
  {
   "cell_type": "code",
   "execution_count": 11,
   "metadata": {
    "collapsed": false
   },
   "outputs": [
    {
     "data": {
      "text/html": [
       "<div>\n",
       "<style>\n",
       "    .dataframe thead tr:only-child th {\n",
       "        text-align: right;\n",
       "    }\n",
       "\n",
       "    .dataframe thead th {\n",
       "        text-align: left;\n",
       "    }\n",
       "\n",
       "    .dataframe tbody tr th {\n",
       "        vertical-align: top;\n",
       "    }\n",
       "</style>\n",
       "<table border=\"1\" class=\"dataframe\">\n",
       "  <thead>\n",
       "    <tr style=\"text-align: right;\">\n",
       "      <th></th>\n",
       "      <th>0</th>\n",
       "    </tr>\n",
       "  </thead>\n",
       "  <tbody>\n",
       "    <tr>\n",
       "      <th>ifrequentlyforgettodothings</th>\n",
       "      <td>0.486</td>\n",
       "    </tr>\n",
       "    <tr>\n",
       "      <th>ispendtimereflectingonthings</th>\n",
       "      <td>0.454</td>\n",
       "    </tr>\n",
       "    <tr>\n",
       "      <th>itrytounderstandmyself</th>\n",
       "      <td>0.447</td>\n",
       "    </tr>\n",
       "    <tr>\n",
       "      <th>iletmyattentionwanderoff</th>\n",
       "      <td>0.440</td>\n",
       "    </tr>\n",
       "    <tr>\n",
       "      <th>iremaincalmunderpressure</th>\n",
       "      <td>0.438</td>\n",
       "    </tr>\n",
       "  </tbody>\n",
       "</table>\n",
       "</div>"
      ],
      "text/plain": [
       "                                 0\n",
       "ifrequentlyforgettodothings  0.486\n",
       "ispendtimereflectingonthings 0.454\n",
       "itrytounderstandmyself       0.447\n",
       "iletmyattentionwanderoff     0.440\n",
       "iremaincalmunderpressure     0.438"
      ]
     },
     "execution_count": 11,
     "metadata": {},
     "output_type": "execute_result"
    }
   ],
   "source": [
    "# I guess I'd call this... inattentiveness?\n",
    "# (This makes me think we still need more data -- these shouldn't correlate together so much)\n",
    "show_items(6)"
   ]
  },
  {
   "cell_type": "code",
   "execution_count": 12,
   "metadata": {
    "collapsed": false
   },
   "outputs": [
    {
     "data": {
      "text/html": [
       "<div>\n",
       "<style>\n",
       "    .dataframe thead tr:only-child th {\n",
       "        text-align: right;\n",
       "    }\n",
       "\n",
       "    .dataframe thead th {\n",
       "        text-align: left;\n",
       "    }\n",
       "\n",
       "    .dataframe tbody tr th {\n",
       "        vertical-align: top;\n",
       "    }\n",
       "</style>\n",
       "<table border=\"1\" class=\"dataframe\">\n",
       "  <thead>\n",
       "    <tr style=\"text-align: right;\">\n",
       "      <th></th>\n",
       "      <th>0</th>\n",
       "    </tr>\n",
       "  </thead>\n",
       "  <tbody>\n",
       "    <tr>\n",
       "      <th>iwanttobetoldiamright</th>\n",
       "      <td>-0.455</td>\n",
       "    </tr>\n",
       "    <tr>\n",
       "      <th>iamnotbotheredbydisorder</th>\n",
       "      <td>0.427</td>\n",
       "    </tr>\n",
       "    <tr>\n",
       "      <th>iamquicktojudgeothers</th>\n",
       "      <td>-0.402</td>\n",
       "    </tr>\n",
       "    <tr>\n",
       "      <th>iamfilledwithdoubtsaboutthings</th>\n",
       "      <td>-0.391</td>\n",
       "    </tr>\n",
       "    <tr>\n",
       "      <th>ireveallittleaboutmyself</th>\n",
       "      <td>0.383</td>\n",
       "    </tr>\n",
       "  </tbody>\n",
       "</table>\n",
       "</div>"
      ],
      "text/plain": [
       "                                    0\n",
       "iwanttobetoldiamright          -0.455\n",
       "iamnotbotheredbydisorder        0.427\n",
       "iamquicktojudgeothers          -0.402\n",
       "iamfilledwithdoubtsaboutthings -0.391\n",
       "ireveallittleaboutmyself        0.383"
      ]
     },
     "execution_count": 12,
     "metadata": {},
     "output_type": "execute_result"
    }
   ],
   "source": [
    "# (Un-)Conscientiousness, or something vaguely like it.\n",
    "show_items(7)"
   ]
  },
  {
   "cell_type": "code",
   "execution_count": null,
   "metadata": {
    "collapsed": true
   },
   "outputs": [],
   "source": []
  }
 ],
 "metadata": {
  "anaconda-cloud": {},
  "kernelspec": {
   "display_name": "Python 3",
   "language": "python",
   "name": "python3"
  },
  "language_info": {
   "codemirror_mode": {
    "name": "ipython",
    "version": 3
   },
   "file_extension": ".py",
   "mimetype": "text/x-python",
   "name": "python",
   "nbconvert_exporter": "python",
   "pygments_lexer": "ipython3",
   "version": "3.6.0"
  }
 },
 "nbformat": 4,
 "nbformat_minor": 2
}
