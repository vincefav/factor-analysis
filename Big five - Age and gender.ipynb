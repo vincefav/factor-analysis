{
 "cells": [
  {
   "cell_type": "code",
   "execution_count": 5,
   "metadata": {
    "collapsed": false
   },
   "outputs": [
    {
     "name": "stdout",
     "output_type": "stream",
     "text": [
      "Populating the interactive namespace from numpy and matplotlib\n"
     ]
    }
   ],
   "source": [
    "import pandas as pd\n",
    "import numpy as np\n",
    "import matplotlib.pyplot as plt\n",
    "from xgboost import XGBClassifier, XGBRegressor\n",
    "import seaborn as sns\n",
    "sns.set_style(\"dark\")\n",
    "\n",
    "from sklearn.model_selection import train_test_split, cross_val_score, GridSearchCV\n",
    "from sklearn.metrics import roc_auc_score\n",
    "from sklearn.preprocessing import LabelBinarizer\n",
    "\n",
    "from warnings import filterwarnings\n",
    "filterwarnings('ignore')\n",
    "\n",
    "%pylab inline\n",
    "data=None\n",
    "def absolute_correlations(col, df=data):\n",
    "    #absolute_values = np.abs(df[col])\n",
    "    corrs = pd.DataFrame(df.select_dtypes(include=[np.number]).corrwith(df[col]), columns=['correlation'])\n",
    "    corrs['absol'] = np.abs(corrs['correlation'])\n",
    "    return corrs.sort_values('absol', ascending=False).drop('absol', axis=1).tail(len(corrs)-1)"
   ]
  },
  {
   "cell_type": "code",
   "execution_count": 6,
   "metadata": {
    "collapsed": false
   },
   "outputs": [
    {
     "data": {
      "text/plain": [
       "(19011, 53)"
      ]
     },
     "execution_count": 6,
     "metadata": {},
     "output_type": "execute_result"
    }
   ],
   "source": [
    "data = pd.read_csv('data_cleaned.csv')\n",
    "data = data[[i for i in data.columns if 'Unnamed' not in i]]\n",
    "\n",
    "\n",
    "# Use only good data\n",
    "\n",
    "# Users could enter any number for age, so let's remove the jokers\n",
    "data = data[data['age'] < 71]\n",
    "data.replace(-1, np.nan, inplace=True)\n",
    "data = data.dropna()\n",
    "\n",
    "# Simplify genders down to two, for convenience\n",
    "data = data[(data['gender'] < 3) & (data['gender'] > 0)]\n",
    "data['gender'] = np.where(data['gender'] == 1, 'man', 'woman')\n",
    "\n",
    "data['reliable'] = np.where(\n",
    "    np.abs(data['I have frequent mood swings.'] - data['I change my mood a lot.']) > 2, 0, 1)\n",
    "\n",
    "data = data[data.reliable == 1]\n",
    "del data['reliable']\n",
    "\n",
    "data.shape"
   ]
  },
  {
   "cell_type": "code",
   "execution_count": 7,
   "metadata": {
    "collapsed": false
   },
   "outputs": [
    {
     "data": {
      "text/plain": [
       "<matplotlib.axes._subplots.AxesSubplot at 0x262af53d7f0>"
      ]
     },
     "execution_count": 7,
     "metadata": {},
     "output_type": "execute_result"
    },
    {
     "data": {
      "image/png": "[encoded data removed]",
      "text/plain": [
       "<matplotlib.figure.Figure at 0x262af53d198>"
      ]
     },
     "metadata": {},
     "output_type": "display_data"
    }
   ],
   "source": [
    "data['age'].hist(edgecolor='black')"
   ]
  },
  {
   "cell_type": "code",
   "execution_count": 183,
   "metadata": {
    "collapsed": false
   },
   "outputs": [],
   "source": [
    "# women.drop(['age', 'gender'], axis=1).std().sort_values().plot.barh(figsize=(5,16), grid=True)"
   ]
  },
  {
   "cell_type": "code",
   "execution_count": 184,
   "metadata": {
    "collapsed": false
   },
   "outputs": [],
   "source": [
    "# men.drop(['age', 'gender'], axis=1).std().sort_values().plot.barh(figsize=(5,16), grid=True)"
   ]
  },
  {
   "cell_type": "code",
   "execution_count": 8,
   "metadata": {
    "collapsed": false
   },
   "outputs": [
    {
     "data": {
      "text/plain": [
       "<matplotlib.axes._subplots.AxesSubplot at 0x262b4b7be10>"
      ]
     },
     "execution_count": 8,
     "metadata": {},
     "output_type": "execute_result"
    },
    {
     "data": {
      "image/png": "[encoded data removed]",
      "text/plain": [
       "<matplotlib.figure.Figure at 0x262b4b47cc0>"
      ]
     },
     "metadata": {},
     "output_type": "display_data"
    }
   ],
   "source": [
    "data['Conscientiousness'] =\\\n",
    "(data['I am always prepared.'] +\n",
    "data['I get chores done right away.'] +\n",
    "data['I like order.'] +\n",
    "data['I follow a schedule.'] +\n",
    "data['I am exacting in my work.'] +\n",
    "(6 - data['I leave my belongings around.']) +\n",
    "(6 - data['I pay attention to details.']) +\n",
    "(6 - data['I make a mess of things.']) +\n",
    "(6 - data['I often forget to put things back in their proper place.']) +\n",
    "(6 - data['I shirk my duties.']))/.5\n",
    "\n",
    "data['Conscientiousness'].hist()"
   ]
  },
  {
   "cell_type": "code",
   "execution_count": 9,
   "metadata": {
    "collapsed": false
   },
   "outputs": [
    {
     "data": {
      "text/plain": [
       "<matplotlib.axes._subplots.AxesSubplot at 0x262b4c72a58>"
      ]
     },
     "execution_count": 9,
     "metadata": {},
     "output_type": "execute_result"
    },
    {
     "data": {
      "image/png": "[encoded data removed]",
      "text/plain": [
       "<matplotlib.figure.Figure at 0x262b4c610f0>"
      ]
     },
     "metadata": {},
     "output_type": "display_data"
    }
   ],
   "source": [
    "data['Agreeableness'] =\\\n",
    "(data['I take time out for others.'] +\n",
    "data['I am interested in people.'] +\n",
    "data[\"I sympathize with others' feelings.\"] +\n",
    "data['I have a soft heart.'] +\n",
    "data['I make people feel at ease.'] +\n",
    "data[\"I feel others' emotions.\"] +\n",
    "(6 - data[\"I am not interested in other people\\'s problems.\"]) +\n",
    "(6 - data[\"I insult people.\"]) +\n",
    "(6 - data[\"I feel little concern for others.\"]) +\n",
    "(6 - data['I am not really interested in others.']))/.5\n",
    "\n",
    "data['Agreeableness'].hist()"
   ]
  },
  {
   "cell_type": "code",
   "execution_count": 10,
   "metadata": {
    "collapsed": false
   },
   "outputs": [
    {
     "data": {
      "text/plain": [
       "<matplotlib.axes._subplots.AxesSubplot at 0x262b4d2e550>"
      ]
     },
     "execution_count": 10,
     "metadata": {},
     "output_type": "execute_result"
    },
    {
     "data": {
      "image/png": "[encoded data removed]",
      "text/plain": [
       "<matplotlib.figure.Figure at 0x262b4d3e8d0>"
      ]
     },
     "metadata": {},
     "output_type": "display_data"
    }
   ],
   "source": [
    "data['Neuroticism'] =\\\n",
    "(data['I get stressed out easily.'] +\n",
    "data['I worry about things.'] +\n",
    "data['I am easily disturbed.'] +\n",
    "data['I get upset easily.'] +\n",
    "data['I change my mood a lot.'] +\n",
    "data['I have frequent mood swings.'] +\n",
    "data['I get irritated easily.'] +\n",
    "data['I often feel blue.'] +\n",
    "(6 - data['I am relaxed most of the time.']) +\n",
    "(6 - data['I seldom feel blue.']))/.5\n",
    "\n",
    "data['Neuroticism'].hist()"
   ]
  },
  {
   "cell_type": "code",
   "execution_count": 11,
   "metadata": {
    "collapsed": false
   },
   "outputs": [
    {
     "data": {
      "text/plain": [
       "<matplotlib.axes._subplots.AxesSubplot at 0x262b4df11d0>"
      ]
     },
     "execution_count": 11,
     "metadata": {},
     "output_type": "execute_result"
    },
    {
     "data": {
      "image/png": "[encoded data removed]",
      "text/plain": [
       "<matplotlib.figure.Figure at 0x262b4dfa3c8>"
      ]
     },
     "metadata": {},
     "output_type": "display_data"
    }
   ],
   "source": [
    "data['Openness'] =\\\n",
    "(data['I have a rich vocabulary.'] +\n",
    "data['I have a vivid imagination.'] +\n",
    "data['I have excellent ideas.'] +\n",
    "data['I am quick to understand things.'] +\n",
    "data['I use difficult words.'] +\n",
    "data['I spend time reflecting on things.'] +\n",
    "data['I am full of ideas.'] +\n",
    "(6 - data['I have difficulty understanding abstract ideas.']) +\n",
    "(6 - data['I do not have a good imagination.']) +\n",
    "(6 - data['I am not interested in abstract ideas.']))/.5\n",
    "\n",
    "data['Openness'].hist()"
   ]
  },
  {
   "cell_type": "code",
   "execution_count": 12,
   "metadata": {
    "collapsed": false
   },
   "outputs": [
    {
     "data": {
      "text/plain": [
       "<matplotlib.axes._subplots.AxesSubplot at 0x262b4eb9240>"
      ]
     },
     "execution_count": 12,
     "metadata": {},
     "output_type": "execute_result"
    },
    {
     "data": {
      "image/png": "[encoded data removed]",
      "text/plain": [
       "<matplotlib.figure.Figure at 0x262b4b68400>"
      ]
     },
     "metadata": {},
     "output_type": "display_data"
    }
   ],
   "source": [
    "data['Extraversion'] =\\\n",
    "(data['I am the life of the party.'] +\n",
    "data['I feel comfortable around people.'] +\n",
    "data['I start conversations.'] +\n",
    "data['I talk to a lot of different people at parties.'] +\n",
    "data[\"I don't mind being the center of attention.\"] +\n",
    "(6 - data[\"I don't like to draw attention to myself.\"]) +\n",
    "(6 - data[\"I don't talk a lot.\"]) +\n",
    "(6 - data[\"I have little to say.\"]) +\n",
    "(6 - data['I am quiet around strangers.']) +\n",
    "(6 - data['I keep in the background.']))/.5\n",
    "\n",
    "data['Extraversion'].hist()"
   ]
  },
  {
   "cell_type": "code",
   "execution_count": 13,
   "metadata": {
    "collapsed": false
   },
   "outputs": [
    {
     "data": {
      "image/png": "[encoded data removed]",
      "text/plain": [
       "<matplotlib.figure.Figure at 0x262b4b68470>"
      ]
     },
     "metadata": {},
     "output_type": "display_data"
    }
   ],
   "source": [
    "def correlation_matrix(df, figsize=(15,7)):\n",
    "    # Generate a mask for the upper triangle\n",
    "    mask = np.zeros_like(df.corr(), dtype=np.bool)\n",
    "    mask[np.triu_indices_from(mask)] = True\n",
    "\n",
    "    # Resize and display\n",
    "    plt.figure(figsize=figsize)\n",
    "    sns.heatmap(df.corr(), annot=True, fmt='.2f', mask=mask, center=0, cmap='seismic_r')\n",
    "    \n",
    "traits = data[['Agreeableness', 'Neuroticism', 'Openness',\n",
    "               'Conscientiousness', 'Extraversion']]\n",
    "\n",
    "correlation_matrix(traits)"
   ]
  },
  {
   "cell_type": "code",
   "execution_count": 23,
   "metadata": {
    "collapsed": false
   },
   "outputs": [
    {
     "data": {
      "text/plain": [
       "0.33785386514360266"
      ]
     },
     "execution_count": 23,
     "metadata": {},
     "output_type": "execute_result"
    }
   ],
   "source": [
    "stability = data['Agreeableness'] + (100-data['Neuroticism']) + data['Conscientiousness']\n",
    "\n",
    "plasticity = data['Extraversion'] + data['Openness']\n",
    "\n",
    "np.corrcoef(stability, plasticity)[0,1]"
   ]
  },
  {
   "cell_type": "markdown",
   "metadata": {},
   "source": [
    "# Gender Differences"
   ]
  },
  {
   "cell_type": "code",
   "execution_count": 190,
   "metadata": {
    "collapsed": true
   },
   "outputs": [],
   "source": [
    "women = data[data.gender == 'woman']\n",
    "men = data[data.gender == 'man']"
   ]
  },
  {
   "cell_type": "code",
   "execution_count": 191,
   "metadata": {
    "collapsed": false
   },
   "outputs": [
    {
     "data": {
      "text/plain": [
       "(array([0, 1, 2, 3, 4]), <a list of 5 Text xticklabel objects>)"
      ]
     },
     "execution_count": 191,
     "metadata": {},
     "output_type": "execute_result"
    },
    {
     "data": {
      "image/png": "[encoded data removed]",
      "text/plain": [
       "<matplotlib.figure.Figure at 0x15560a32208>"
      ]
     },
     "metadata": {},
     "output_type": "display_data"
    }
   ],
   "source": [
    "men_v_women = data.groupby('gender').mean()[['Agreeableness', 'Neuroticism', 'Openness',\n",
    "                                             'Conscientiousness', 'Extraversion']].T\n",
    "\n",
    "men_v_women.plot.bar(color=['blue', 'magenta'])\n",
    "\n",
    "plt.xticks(rotation=20)"
   ]
  },
  {
   "cell_type": "markdown",
   "metadata": {},
   "source": [
    "Men and women differ the most on agreeableness (which is the ability to empathize), and neuroticism (which is negative emotion). Let's graph those two."
   ]
  },
  {
   "cell_type": "code",
   "execution_count": 192,
   "metadata": {
    "collapsed": false
   },
   "outputs": [
    {
     "data": {
      "text/plain": [
       "<matplotlib.axes._subplots.AxesSubplot at 0x155769a8518>"
      ]
     },
     "execution_count": 192,
     "metadata": {},
     "output_type": "execute_result"
    },
    {
     "data": {
      "image/png": "[encoded data removed]",
      "text/plain": [
       "<matplotlib.figure.Figure at 0x1556b9760b8>"
      ]
     },
     "metadata": {},
     "output_type": "display_data"
    }
   ],
   "source": [
    "sns.kdeplot(men.Agreeableness, color='blue', shade=True, bw=5)\n",
    "sns.kdeplot(women.Agreeableness, color='magenta', shade=True, bw=5)"
   ]
  },
  {
   "cell_type": "code",
   "execution_count": 193,
   "metadata": {
    "collapsed": false
   },
   "outputs": [
    {
     "data": {
      "text/plain": [
       "<matplotlib.axes._subplots.AxesSubplot at 0x15576a3bf60>"
      ]
     },
     "execution_count": 193,
     "metadata": {},
     "output_type": "execute_result"
    },
    {
     "data": {
      "image/png": "[encoded data removed]",
      "text/plain": [
       "<matplotlib.figure.Figure at 0x15576a74cf8>"
      ]
     },
     "metadata": {},
     "output_type": "display_data"
    }
   ],
   "source": [
    "sns.kdeplot(men.Neuroticism, color='blue', shade=True, bw=7)\n",
    "sns.kdeplot(women.Neuroticism, color='magenta', shade=True, bw=7)"
   ]
  },
  {
   "cell_type": "markdown",
   "metadata": {},
   "source": [
    "# Personality over time"
   ]
  },
  {
   "cell_type": "code",
   "execution_count": 195,
   "metadata": {
    "collapsed": true
   },
   "outputs": [],
   "source": [
    "bins = np.arange(data.age.min()+1, data.age.max()+1, 10)\n",
    "data['age_group'] = pd.Series(pd.cut(data['age'], bins=bins))"
   ]
  },
  {
   "cell_type": "code",
   "execution_count": 198,
   "metadata": {
    "collapsed": false
   },
   "outputs": [
    {
     "data": {
      "text/plain": [
       "<matplotlib.legend.Legend at 0x15576d18f98>"
      ]
     },
     "execution_count": 198,
     "metadata": {},
     "output_type": "execute_result"
    },
    {
     "data": {
      "image/png": "[encoded data removed]",
      "text/plain": [
       "<matplotlib.figure.Figure at 0x15576c73c88>"
      ]
     },
     "metadata": {},
     "output_type": "display_data"
    }
   ],
   "source": [
    "men_c = data[data['gender'] == 'man'].groupby('age_group').mean()\n",
    "women_c = data[data['gender'] == 'woman'].groupby('age_group').mean()\n",
    "\n",
    "men_c['Conscientiousness'].plot(linewidth=5, grid=True)\n",
    "women_c['Conscientiousness'].plot(linewidth=5, color='magenta', grid=True)\n",
    "\n",
    "plt.title('Conscientiousness')\n",
    "pylab.legend(loc=9, bbox_to_anchor=(0.5, -.2))"
   ]
  },
  {
   "cell_type": "code",
   "execution_count": 199,
   "metadata": {
    "collapsed": false
   },
   "outputs": [
    {
     "data": {
      "text/plain": [
       "<matplotlib.legend.Legend at 0x15576db3128>"
      ]
     },
     "execution_count": 199,
     "metadata": {},
     "output_type": "execute_result"
    },
    {
     "data": {
      "image/png": "[encoded data removed]",
      "text/plain": [
       "<matplotlib.figure.Figure at 0x1556e14e710>"
      ]
     },
     "metadata": {},
     "output_type": "display_data"
    }
   ],
   "source": [
    "men_n = data[data['gender'] == 'man'].groupby('age_group').mean()\n",
    "women_n = data[data['gender'] == 'woman'].groupby('age_group').mean()\n",
    "\n",
    "men_n['Neuroticism'].plot(linewidth=5, grid=True)\n",
    "women_n['Neuroticism'].plot(linewidth=5, color='magenta', grid=True)\n",
    "\n",
    "plt.title('Neuroticism')\n",
    "pylab.legend(loc=9, bbox_to_anchor=(0.5, -.2))"
   ]
  },
  {
   "cell_type": "markdown",
   "metadata": {},
   "source": [
    "Sadly, I think there's survivorship bias when measuring neuroticism. People with poor mental health are not going to live as long. Nonetheless, our mental health seems to improve as we get older (as many formerly anxious teens will tell you)."
   ]
  },
  {
   "cell_type": "code",
   "execution_count": 200,
   "metadata": {
    "collapsed": false
   },
   "outputs": [
    {
     "data": {
      "text/plain": [
       "<matplotlib.legend.Legend at 0x15579b6a0f0>"
      ]
     },
     "execution_count": 200,
     "metadata": {},
     "output_type": "execute_result"
    },
    {
     "data": {
      "image/png": "[encoded data removed]",
      "text/plain": [
       "<matplotlib.figure.Figure at 0x15576dd0748>"
      ]
     },
     "metadata": {},
     "output_type": "display_data"
    }
   ],
   "source": [
    "men_e = data[data['gender'] == 'man'].groupby('age_group').mean()\n",
    "women_e = data[data['gender'] == 'woman'].groupby('age_group').mean()\n",
    "\n",
    "men_e['Extraversion'].plot(linewidth=5, grid=True)\n",
    "women_e['Extraversion'].plot(linewidth=5, color='magenta', grid=True)\n",
    "\n",
    "plt.title('Extraversion')\n",
    "pylab.legend(loc=9, bbox_to_anchor=(0.5, -.2))"
   ]
  },
  {
   "cell_type": "code",
   "execution_count": 201,
   "metadata": {
    "collapsed": false
   },
   "outputs": [
    {
     "data": {
      "text/plain": [
       "<matplotlib.legend.Legend at 0x15579c1ccf8>"
      ]
     },
     "execution_count": 201,
     "metadata": {},
     "output_type": "execute_result"
    },
    {
     "data": {
      "image/png": "[encoded data removed]",
      "text/plain": [
       "<matplotlib.figure.Figure at 0x15579b7d0b8>"
      ]
     },
     "metadata": {},
     "output_type": "display_data"
    }
   ],
   "source": [
    "men_o = data[data['gender'] == 'man'].groupby('age_group').mean()\n",
    "women_o = data[data['gender'] == 'woman'].groupby('age_group').mean()\n",
    "\n",
    "men_o['Openness'].plot(linewidth=5, grid=True)\n",
    "women_o['Openness'].plot(linewidth=5, color='magenta', grid=True)\n",
    "\n",
    "plt.title('Openness')\n",
    "pylab.legend(loc=9, bbox_to_anchor=(0.5, -.2))"
   ]
  },
  {
   "cell_type": "markdown",
   "metadata": {},
   "source": [
    "I think there's some selection bias here. It would make a lot more sense if openness (which measures curiosity) declined over time. But the fact that it increases leads me to believe that intellectually curious old folks are more likely to take a personality test."
   ]
  },
  {
   "cell_type": "code",
   "execution_count": 202,
   "metadata": {
    "collapsed": false
   },
   "outputs": [
    {
     "data": {
      "text/plain": [
       "<matplotlib.legend.Legend at 0x1557a4b2cc0>"
      ]
     },
     "execution_count": 202,
     "metadata": {},
     "output_type": "execute_result"
    },
    {
     "data": {
      "image/png": "[encoded data removed]",
      "text/plain": [
       "<matplotlib.figure.Figure at 0x15579c17668>"
      ]
     },
     "metadata": {},
     "output_type": "display_data"
    }
   ],
   "source": [
    "men_a = data[data['gender'] == 'man'].groupby('age_group').mean()\n",
    "women_a = data[data['gender'] == 'woman'].groupby('age_group').mean()\n",
    "\n",
    "men_a['Agreeableness'].plot(linewidth=5, grid=True)\n",
    "women_a['Agreeableness'].plot(linewidth=5, color='magenta', grid=True)\n",
    "\n",
    "plt.title('Agreeableness')\n",
    "pylab.legend(loc=9, bbox_to_anchor=(0.5, -.2))"
   ]
  },
  {
   "cell_type": "markdown",
   "metadata": {},
   "source": [
    "# Personality by country"
   ]
  },
  {
   "cell_type": "code",
   "execution_count": 133,
   "metadata": {
    "collapsed": false
   },
   "outputs": [
    {
     "data": {
      "text/plain": [
       "<matplotlib.axes._subplots.AxesSubplot at 0x155744f7128>"
      ]
     },
     "execution_count": 133,
     "metadata": {},
     "output_type": "execute_result"
    },
    {
     "data": {
      "image/png": "[encoded data removed]",
      "text/plain": [
       "<matplotlib.figure.Figure at 0x1557434c7f0>"
      ]
     },
     "metadata": {},
     "output_type": "display_data"
    }
   ],
   "source": [
    "countries = data.country.value_counts()\n",
    "countries[countries > 99].plot.bar(figsize=(20,4), grid=True)"
   ]
  },
  {
   "cell_type": "code",
   "execution_count": null,
   "metadata": {
    "collapsed": true
   },
   "outputs": [],
   "source": [
    "# TODO: finish personality by country"
   ]
  },
  {
   "cell_type": "markdown",
   "metadata": {},
   "source": [
    "# Factor analysis"
   ]
  },
  {
   "cell_type": "code",
   "execution_count": 15,
   "metadata": {
    "collapsed": true
   },
   "outputs": [],
   "source": [
    "data = data.drop(['age', 'gender', 'country', 'Conscientiousness',\n",
    "                  'Agreeableness', 'Neuroticism', 'Openness', 'Extraversion'], axis=1)"
   ]
  },
  {
   "cell_type": "code",
   "execution_count": 20,
   "metadata": {
    "collapsed": false
   },
   "outputs": [
    {
     "data": {
      "text/html": [
       "<div>\n",
       "<style>\n",
       "    .dataframe thead tr:only-child th {\n",
       "        text-align: right;\n",
       "    }\n",
       "\n",
       "    .dataframe thead th {\n",
       "        text-align: left;\n",
       "    }\n",
       "\n",
       "    .dataframe tbody tr th {\n",
       "        vertical-align: top;\n",
       "    }\n",
       "</style>\n",
       "<table border=\"1\" class=\"dataframe\">\n",
       "  <thead>\n",
       "    <tr style=\"text-align: right;\">\n",
       "      <th></th>\n",
       "      <th>1</th>\n",
       "    </tr>\n",
       "  </thead>\n",
       "  <tbody>\n",
       "    <tr>\n",
       "      <th>I talk to a lot of different people at parties.</th>\n",
       "      <td>-0.990938</td>\n",
       "    </tr>\n",
       "    <tr>\n",
       "      <th>I start conversations.</th>\n",
       "      <td>-0.919648</td>\n",
       "    </tr>\n",
       "    <tr>\n",
       "      <th>I feel comfortable around people.</th>\n",
       "      <td>-0.919154</td>\n",
       "    </tr>\n",
       "    <tr>\n",
       "      <th>I am quiet around strangers.</th>\n",
       "      <td>0.810207</td>\n",
       "    </tr>\n",
       "    <tr>\n",
       "      <th>I keep in the background.</th>\n",
       "      <td>0.777479</td>\n",
       "    </tr>\n",
       "    <tr>\n",
       "      <th>I don't talk a lot.</th>\n",
       "      <td>0.759983</td>\n",
       "    </tr>\n",
       "    <tr>\n",
       "      <th>I have little to say.</th>\n",
       "      <td>0.724442</td>\n",
       "    </tr>\n",
       "  </tbody>\n",
       "</table>\n",
       "</div>"
      ],
      "text/plain": [
       "                                                        1\n",
       "I talk to a lot of different people at parties. -0.990938\n",
       "I start conversations.                          -0.919648\n",
       "I feel comfortable around people.               -0.919154\n",
       "I am quiet around strangers.                     0.810207\n",
       "I keep in the background.                        0.777479\n",
       "I don't talk a lot.                              0.759983\n",
       "I have little to say.                            0.724442"
      ]
     },
     "execution_count": 20,
     "metadata": {},
     "output_type": "execute_result"
    }
   ],
   "source": [
    "from sklearn.decomposition import FactorAnalysis\n",
    "\n",
    "def get_factor(remaining=data.columns, threshold=0.65):\n",
    "\n",
    "    fa = FactorAnalysis(n_components=1, random_state=200).fit(data[remaining])\n",
    "\n",
    "    factor = pd.DataFrame(fa.components_, columns=data[remaining].columns).T\n",
    "\n",
    "    factor.columns = [i+1 for i in factor.columns]\n",
    "    factor['absol'] = abs(factor[1])\n",
    "    \n",
    "    remaining = factor[np.abs(factor[1]) < threshold].index\n",
    "    factor = factor[factor.absol >= threshold]\n",
    "    \n",
    "    factor = pd.DataFrame(factor.sort_values('absol', ascending=False)[1])\n",
    "\n",
    "    return factor, remaining\n",
    "\n",
    "factor, remaining = get_factor(threshold=.72)\n",
    "\n",
    "# Extraversion\n",
    "factor"
   ]
  },
  {
   "cell_type": "code",
   "execution_count": 21,
   "metadata": {
    "collapsed": false
   },
   "outputs": [
    {
     "data": {
      "text/html": [
       "<div>\n",
       "<style>\n",
       "    .dataframe thead tr:only-child th {\n",
       "        text-align: right;\n",
       "    }\n",
       "\n",
       "    .dataframe thead th {\n",
       "        text-align: left;\n",
       "    }\n",
       "\n",
       "    .dataframe tbody tr th {\n",
       "        vertical-align: top;\n",
       "    }\n",
       "</style>\n",
       "<table border=\"1\" class=\"dataframe\">\n",
       "  <thead>\n",
       "    <tr style=\"text-align: right;\">\n",
       "      <th></th>\n",
       "      <th>0</th>\n",
       "    </tr>\n",
       "  </thead>\n",
       "  <tbody>\n",
       "    <tr>\n",
       "      <th>I start conversations.</th>\n",
       "      <td>0.552253</td>\n",
       "    </tr>\n",
       "    <tr>\n",
       "      <th>I talk to a lot of different people at parties.</th>\n",
       "      <td>0.525610</td>\n",
       "    </tr>\n",
       "    <tr>\n",
       "      <th>I don't talk a lot.</th>\n",
       "      <td>0.507406</td>\n",
       "    </tr>\n",
       "    <tr>\n",
       "      <th>I keep in the background.</th>\n",
       "      <td>0.507092</td>\n",
       "    </tr>\n",
       "    <tr>\n",
       "      <th>I feel comfortable around people.</th>\n",
       "      <td>0.498785</td>\n",
       "    </tr>\n",
       "    <tr>\n",
       "      <th>I am quiet around strangers.</th>\n",
       "      <td>0.494405</td>\n",
       "    </tr>\n",
       "    <tr>\n",
       "      <th>I have little to say.</th>\n",
       "      <td>0.458996</td>\n",
       "    </tr>\n",
       "  </tbody>\n",
       "</table>\n",
       "</div>"
      ],
      "text/plain": [
       "                                                        0\n",
       "I start conversations.                           0.552253\n",
       "I talk to a lot of different people at parties.  0.525610\n",
       "I don't talk a lot.                              0.507406\n",
       "I keep in the background.                        0.507092\n",
       "I feel comfortable around people.                0.498785\n",
       "I am quiet around strangers.                     0.494405\n",
       "I have little to say.                            0.458996"
      ]
     },
     "execution_count": 21,
     "metadata": {},
     "output_type": "execute_result"
    }
   ],
   "source": [
    "def intercorrelations(factor=factor):\n",
    "    factor_questions = factor.index\n",
    "    intercorrelations = {}\n",
    "\n",
    "    for i in factor_questions:\n",
    "        corrs = abs(data[factor_questions].drop(i, axis=1).corrwith(data[i]))\n",
    "        intercorrelations[i] = corrs.mean()\n",
    "\n",
    "    return pd.DataFrame([intercorrelations]).T.sort_values(0, ascending=False)\n",
    "    \n",
    "intercorrelations()"
   ]
  },
  {
   "cell_type": "code",
   "execution_count": 23,
   "metadata": {
    "collapsed": false
   },
   "outputs": [
    {
     "data": {
      "text/html": [
       "<div>\n",
       "<style>\n",
       "    .dataframe thead tr:only-child th {\n",
       "        text-align: right;\n",
       "    }\n",
       "\n",
       "    .dataframe thead th {\n",
       "        text-align: left;\n",
       "    }\n",
       "\n",
       "    .dataframe tbody tr th {\n",
       "        vertical-align: top;\n",
       "    }\n",
       "</style>\n",
       "<table border=\"1\" class=\"dataframe\">\n",
       "  <thead>\n",
       "    <tr style=\"text-align: right;\">\n",
       "      <th></th>\n",
       "      <th>correlation</th>\n",
       "    </tr>\n",
       "  </thead>\n",
       "  <tbody>\n",
       "    <tr>\n",
       "      <th>I start conversations.</th>\n",
       "      <td>0.634175</td>\n",
       "    </tr>\n",
       "    <tr>\n",
       "      <th>I am the life of the party.</th>\n",
       "      <td>0.591438</td>\n",
       "    </tr>\n",
       "    <tr>\n",
       "      <th>I feel comfortable around people.</th>\n",
       "      <td>0.582116</td>\n",
       "    </tr>\n",
       "    <tr>\n",
       "      <th>I am quiet around strangers.</th>\n",
       "      <td>-0.538342</td>\n",
       "    </tr>\n",
       "    <tr>\n",
       "      <th>I keep in the background.</th>\n",
       "      <td>-0.509595</td>\n",
       "    </tr>\n",
       "    <tr>\n",
       "      <th>I don't talk a lot.</th>\n",
       "      <td>-0.481347</td>\n",
       "    </tr>\n",
       "    <tr>\n",
       "      <th>I don't mind being the center of attention.</th>\n",
       "      <td>0.436464</td>\n",
       "    </tr>\n",
       "    <tr>\n",
       "      <th>I have little to say.</th>\n",
       "      <td>-0.408088</td>\n",
       "    </tr>\n",
       "    <tr>\n",
       "      <th>I am interested in people.</th>\n",
       "      <td>0.359238</td>\n",
       "    </tr>\n",
       "    <tr>\n",
       "      <th>I make people feel at ease.</th>\n",
       "      <td>0.354258</td>\n",
       "    </tr>\n",
       "    <tr>\n",
       "      <th>I am not really interested in others.</th>\n",
       "      <td>-0.353660</td>\n",
       "    </tr>\n",
       "    <tr>\n",
       "      <th>I don't like to draw attention to myself.</th>\n",
       "      <td>-0.345904</td>\n",
       "    </tr>\n",
       "    <tr>\n",
       "      <th>I often feel blue.</th>\n",
       "      <td>-0.243252</td>\n",
       "    </tr>\n",
       "    <tr>\n",
       "      <th>I take time out for others.</th>\n",
       "      <td>0.213952</td>\n",
       "    </tr>\n",
       "    <tr>\n",
       "      <th>I feel others' emotions.</th>\n",
       "      <td>0.180856</td>\n",
       "    </tr>\n",
       "    <tr>\n",
       "      <th>I am not interested in other people's problems.</th>\n",
       "      <td>-0.180352</td>\n",
       "    </tr>\n",
       "    <tr>\n",
       "      <th>I am full of ideas.</th>\n",
       "      <td>0.168081</td>\n",
       "    </tr>\n",
       "    <tr>\n",
       "      <th>I have excellent ideas.</th>\n",
       "      <td>0.166136</td>\n",
       "    </tr>\n",
       "    <tr>\n",
       "      <th>I am relaxed most of the time.</th>\n",
       "      <td>0.156804</td>\n",
       "    </tr>\n",
       "    <tr>\n",
       "      <th>I get irritated easily.</th>\n",
       "      <td>-0.149078</td>\n",
       "    </tr>\n",
       "    <tr>\n",
       "      <th>I sympathize with others' feelings.</th>\n",
       "      <td>0.146748</td>\n",
       "    </tr>\n",
       "    <tr>\n",
       "      <th>I get upset easily.</th>\n",
       "      <td>-0.141386</td>\n",
       "    </tr>\n",
       "    <tr>\n",
       "      <th>I get stressed out easily.</th>\n",
       "      <td>-0.137953</td>\n",
       "    </tr>\n",
       "    <tr>\n",
       "      <th>I worry about things.</th>\n",
       "      <td>-0.132356</td>\n",
       "    </tr>\n",
       "    <tr>\n",
       "      <th>I seldom feel blue.</th>\n",
       "      <td>0.131927</td>\n",
       "    </tr>\n",
       "    <tr>\n",
       "      <th>I get chores done right away.</th>\n",
       "      <td>0.125883</td>\n",
       "    </tr>\n",
       "    <tr>\n",
       "      <th>I have frequent mood swings.</th>\n",
       "      <td>-0.115632</td>\n",
       "    </tr>\n",
       "    <tr>\n",
       "      <th>I am easily disturbed.</th>\n",
       "      <td>-0.109360</td>\n",
       "    </tr>\n",
       "    <tr>\n",
       "      <th>I shirk my duties.</th>\n",
       "      <td>-0.101106</td>\n",
       "    </tr>\n",
       "    <tr>\n",
       "      <th>I am quick to understand things.</th>\n",
       "      <td>0.100250</td>\n",
       "    </tr>\n",
       "    <tr>\n",
       "      <th>I change my mood a lot.</th>\n",
       "      <td>-0.098241</td>\n",
       "    </tr>\n",
       "    <tr>\n",
       "      <th>I do not have a good imagination.</th>\n",
       "      <td>-0.091710</td>\n",
       "    </tr>\n",
       "    <tr>\n",
       "      <th>I make a mess of things.</th>\n",
       "      <td>-0.086395</td>\n",
       "    </tr>\n",
       "    <tr>\n",
       "      <th>I feel little concern for others.</th>\n",
       "      <td>-0.083006</td>\n",
       "    </tr>\n",
       "    <tr>\n",
       "      <th>I have a soft heart.</th>\n",
       "      <td>0.082886</td>\n",
       "    </tr>\n",
       "    <tr>\n",
       "      <th>I follow a schedule.</th>\n",
       "      <td>0.081368</td>\n",
       "    </tr>\n",
       "    <tr>\n",
       "      <th>I am always prepared.</th>\n",
       "      <td>0.066689</td>\n",
       "    </tr>\n",
       "    <tr>\n",
       "      <th>I am exacting in my work.</th>\n",
       "      <td>0.064647</td>\n",
       "    </tr>\n",
       "    <tr>\n",
       "      <th>I have a rich vocabulary.</th>\n",
       "      <td>0.057228</td>\n",
       "    </tr>\n",
       "    <tr>\n",
       "      <th>I have difficulty understanding abstract ideas.</th>\n",
       "      <td>-0.055997</td>\n",
       "    </tr>\n",
       "    <tr>\n",
       "      <th>I spend time reflecting on things.</th>\n",
       "      <td>-0.055420</td>\n",
       "    </tr>\n",
       "    <tr>\n",
       "      <th>I have a vivid imagination.</th>\n",
       "      <td>0.041772</td>\n",
       "    </tr>\n",
       "    <tr>\n",
       "      <th>I often forget to put things back in their proper place.</th>\n",
       "      <td>-0.037458</td>\n",
       "    </tr>\n",
       "    <tr>\n",
       "      <th>I am not interested in abstract ideas.</th>\n",
       "      <td>-0.035014</td>\n",
       "    </tr>\n",
       "    <tr>\n",
       "      <th>I pay attention to details.</th>\n",
       "      <td>0.032899</td>\n",
       "    </tr>\n",
       "    <tr>\n",
       "      <th>I leave my belongings around.</th>\n",
       "      <td>0.026449</td>\n",
       "    </tr>\n",
       "    <tr>\n",
       "      <th>I insult people.</th>\n",
       "      <td>-0.022107</td>\n",
       "    </tr>\n",
       "    <tr>\n",
       "      <th>I use difficult words.</th>\n",
       "      <td>0.013706</td>\n",
       "    </tr>\n",
       "    <tr>\n",
       "      <th>I like order.</th>\n",
       "      <td>-0.003954</td>\n",
       "    </tr>\n",
       "  </tbody>\n",
       "</table>\n",
       "</div>"
      ],
      "text/plain": [
       "                                                    correlation\n",
       "I start conversations.                                 0.634175\n",
       "I am the life of the party.                            0.591438\n",
       "I feel comfortable around people.                      0.582116\n",
       "I am quiet around strangers.                          -0.538342\n",
       "I keep in the background.                             -0.509595\n",
       "I don't talk a lot.                                   -0.481347\n",
       "I don't mind being the center of attention.            0.436464\n",
       "I have little to say.                                 -0.408088\n",
       "I am interested in people.                             0.359238\n",
       "I make people feel at ease.                            0.354258\n",
       "I am not really interested in others.                 -0.353660\n",
       "I don't like to draw attention to myself.             -0.345904\n",
       "I often feel blue.                                    -0.243252\n",
       "I take time out for others.                            0.213952\n",
       "I feel others' emotions.                               0.180856\n",
       "I am not interested in other people's problems.       -0.180352\n",
       "I am full of ideas.                                    0.168081\n",
       "I have excellent ideas.                                0.166136\n",
       "I am relaxed most of the time.                         0.156804\n",
       "I get irritated easily.                               -0.149078\n",
       "I sympathize with others' feelings.                    0.146748\n",
       "I get upset easily.                                   -0.141386\n",
       "I get stressed out easily.                            -0.137953\n",
       "I worry about things.                                 -0.132356\n",
       "I seldom feel blue.                                    0.131927\n",
       "I get chores done right away.                          0.125883\n",
       "I have frequent mood swings.                          -0.115632\n",
       "I am easily disturbed.                                -0.109360\n",
       "I shirk my duties.                                    -0.101106\n",
       "I am quick to understand things.                       0.100250\n",
       "I change my mood a lot.                               -0.098241\n",
       "I do not have a good imagination.                     -0.091710\n",
       "I make a mess of things.                              -0.086395\n",
       "I feel little concern for others.                     -0.083006\n",
       "I have a soft heart.                                   0.082886\n",
       "I follow a schedule.                                   0.081368\n",
       "I am always prepared.                                  0.066689\n",
       "I am exacting in my work.                              0.064647\n",
       "I have a rich vocabulary.                              0.057228\n",
       "I have difficulty understanding abstract ideas.       -0.055997\n",
       "I spend time reflecting on things.                    -0.055420\n",
       "I have a vivid imagination.                            0.041772\n",
       "I often forget to put things back in their prop...    -0.037458\n",
       "I am not interested in abstract ideas.                -0.035014\n",
       "I pay attention to details.                            0.032899\n",
       "I leave my belongings around.                          0.026449\n",
       "I insult people.                                      -0.022107\n",
       "I use difficult words.                                 0.013706\n",
       "I like order.                                         -0.003954"
      ]
     },
     "execution_count": 23,
     "metadata": {},
     "output_type": "execute_result"
    }
   ],
   "source": [
    "absolute_correlations('I talk to a lot of different people at parties.', df=data)"
   ]
  },
  {
   "cell_type": "code",
   "execution_count": null,
   "metadata": {
    "collapsed": true
   },
   "outputs": [],
   "source": []
  }
 ],
 "metadata": {
  "kernelspec": {
   "display_name": "Python 3",
   "language": "python",
   "name": "python3"
  },
  "language_info": {
   "codemirror_mode": {
    "name": "ipython",
    "version": 3
   },
   "file_extension": ".py",
   "mimetype": "text/x-python",
   "name": "python",
   "nbconvert_exporter": "python",
   "pygments_lexer": "ipython3",
   "version": "3.6.0"
  }
 },
 "nbformat": 4,
 "nbformat_minor": 2
}
