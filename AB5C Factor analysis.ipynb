{
 "cells": [
  {
   "cell_type": "code",
   "execution_count": 1,
   "metadata": {
    "collapsed": false
   },
   "outputs": [
    {
     "name": "stdout",
     "output_type": "stream",
     "text": [
      "Populating the interactive namespace from numpy and matplotlib\n"
     ]
    }
   ],
   "source": [
    "import pandas as pd\n",
    "import numpy as np\n",
    "import seaborn as sns\n",
    "\n",
    "pd.set_option('display.float_format', lambda x: '{:.3f}'.format(x))\n",
    "\n",
    "%pylab inline"
   ]
  },
  {
   "cell_type": "code",
   "execution_count": 15,
   "metadata": {
    "collapsed": false
   },
   "outputs": [
    {
     "data": {
      "text/plain": [
       "(87, 513)"
      ]
     },
     "execution_count": 15,
     "metadata": {},
     "output_type": "execute_result"
    }
   ],
   "source": [
    "data = pd.read_csv('ab5c_factor_analysis.csv')\n",
    "data = data[[i for i in data.columns if 'unnamed' not in i.lower()]]\n",
    "data.shape"
   ]
  },
  {
   "cell_type": "markdown",
   "metadata": {},
   "source": [
    "See http://imaging.mrc-cbu.cam.ac.uk/statswiki/FAQ/thresholds for threshold suggestions"
   ]
  },
  {
   "cell_type": "code",
   "execution_count": 47,
   "metadata": {
    "collapsed": false
   },
   "outputs": [
    {
     "data": {
      "text/html": [
       "<div>\n",
       "<style>\n",
       "    .dataframe thead tr:only-child th {\n",
       "        text-align: right;\n",
       "    }\n",
       "\n",
       "    .dataframe thead th {\n",
       "        text-align: left;\n",
       "    }\n",
       "\n",
       "    .dataframe tbody tr th {\n",
       "        vertical-align: top;\n",
       "    }\n",
       "</style>\n",
       "<table border=\"1\" class=\"dataframe\">\n",
       "  <thead>\n",
       "    <tr style=\"text-align: right;\">\n",
       "      <th></th>\n",
       "      <th>1</th>\n",
       "    </tr>\n",
       "  </thead>\n",
       "  <tbody>\n",
       "    <tr>\n",
       "      <th>iamnotsurewheremylifeisgoing</th>\n",
       "      <td>-1.039</td>\n",
       "    </tr>\n",
       "    <tr>\n",
       "      <th>idoalotinmysparetime</th>\n",
       "      <td>1.024</td>\n",
       "    </tr>\n",
       "    <tr>\n",
       "      <th>italktoalotofdifferentpeopleatparties</th>\n",
       "      <td>0.944</td>\n",
       "    </tr>\n",
       "    <tr>\n",
       "      <th>itakecharge</th>\n",
       "      <td>0.944</td>\n",
       "    </tr>\n",
       "    <tr>\n",
       "      <th>ihavedifficultyexpressingmyfeelings</th>\n",
       "      <td>-0.924</td>\n",
       "    </tr>\n",
       "    <tr>\n",
       "      <th>iknowwhatiwant</th>\n",
       "      <td>0.892</td>\n",
       "    </tr>\n",
       "    <tr>\n",
       "      <th>icaneasilypushmyselfforward</th>\n",
       "      <td>0.881</td>\n",
       "    </tr>\n",
       "    <tr>\n",
       "      <th>iexpressmyselfeasily</th>\n",
       "      <td>0.875</td>\n",
       "    </tr>\n",
       "    <tr>\n",
       "      <th>igetthingsdonequickly</th>\n",
       "      <td>0.850</td>\n",
       "    </tr>\n",
       "    <tr>\n",
       "      <th>iseemyselfasagoodleader</th>\n",
       "      <td>0.845</td>\n",
       "    </tr>\n",
       "    <tr>\n",
       "      <th>icomeupwithboldplans</th>\n",
       "      <td>0.841</td>\n",
       "    </tr>\n",
       "  </tbody>\n",
       "</table>\n",
       "</div>"
      ],
      "text/plain": [
       "                                           1\n",
       "iamnotsurewheremylifeisgoing          -1.039\n",
       "idoalotinmysparetime                   1.024\n",
       "italktoalotofdifferentpeopleatparties  0.944\n",
       "itakecharge                            0.944\n",
       "ihavedifficultyexpressingmyfeelings   -0.924\n",
       "iknowwhatiwant                         0.892\n",
       "icaneasilypushmyselfforward            0.881\n",
       "iexpressmyselfeasily                   0.875\n",
       "igetthingsdonequickly                  0.850\n",
       "iseemyselfasagoodleader                0.845\n",
       "icomeupwithboldplans                   0.841"
      ]
     },
     "execution_count": 47,
     "metadata": {},
     "output_type": "execute_result"
    }
   ],
   "source": [
    "from sklearn.decomposition import FactorAnalysis\n",
    "\n",
    "def get_factor(remaining=data.columns, threshold=0.65):\n",
    "\n",
    "    fa = FactorAnalysis(n_components=1, random_state=1).fit(data[remaining])\n",
    "\n",
    "    factor = pd.DataFrame(fa.components_, columns=data[remaining].columns).T\n",
    "\n",
    "    factor.columns = [i+1 for i in factor.columns]\n",
    "    factor['absol'] = abs(factor[1])\n",
    "    \n",
    "    remaining = factors[np.abs(factors[1]) < threshold].index\n",
    "    factor = factor[factor.absol >= threshold]\n",
    "    \n",
    "    factor = pd.DataFrame(factor.sort_values('absol', ascending=False)[1])\n",
    "\n",
    "    \n",
    "\n",
    "    return factor, remaining\n",
    "\n",
    "factor, remaining = get_factor(threshold=.84)\n",
    "\n",
    "# Assertiveness\n",
    "factor"
   ]
  },
  {
   "cell_type": "code",
   "execution_count": 48,
   "metadata": {
    "collapsed": false
   },
   "outputs": [
    {
     "data": {
      "text/html": [
       "<div>\n",
       "<style>\n",
       "    .dataframe thead tr:only-child th {\n",
       "        text-align: right;\n",
       "    }\n",
       "\n",
       "    .dataframe thead th {\n",
       "        text-align: left;\n",
       "    }\n",
       "\n",
       "    .dataframe tbody tr th {\n",
       "        vertical-align: top;\n",
       "    }\n",
       "</style>\n",
       "<table border=\"1\" class=\"dataframe\">\n",
       "  <thead>\n",
       "    <tr style=\"text-align: right;\">\n",
       "      <th></th>\n",
       "      <th>1</th>\n",
       "    </tr>\n",
       "  </thead>\n",
       "  <tbody>\n",
       "    <tr>\n",
       "      <th>iknowhowtocomfortothers</th>\n",
       "      <td>0.862</td>\n",
       "    </tr>\n",
       "    <tr>\n",
       "      <th>iaccomplishmyworkontime</th>\n",
       "      <td>0.836</td>\n",
       "    </tr>\n",
       "    <tr>\n",
       "      <th>iwastemytime</th>\n",
       "      <td>-0.820</td>\n",
       "    </tr>\n",
       "    <tr>\n",
       "      <th>ihandletaskssmoothly</th>\n",
       "      <td>0.789</td>\n",
       "    </tr>\n",
       "    <tr>\n",
       "      <th>iturnplansintoactions</th>\n",
       "      <td>0.786</td>\n",
       "    </tr>\n",
       "    <tr>\n",
       "      <th>iamalwaysbusy</th>\n",
       "      <td>0.782</td>\n",
       "    </tr>\n",
       "    <tr>\n",
       "      <th>iamnotaveryenthusiasticperson</th>\n",
       "      <td>-0.773</td>\n",
       "    </tr>\n",
       "    <tr>\n",
       "      <th>ithinkquickly</th>\n",
       "      <td>0.770</td>\n",
       "    </tr>\n",
       "    <tr>\n",
       "      <th>imakebeautifulthings</th>\n",
       "      <td>0.770</td>\n",
       "    </tr>\n",
       "    <tr>\n",
       "      <th>iamnothighlymotivatedtosucceed</th>\n",
       "      <td>-0.770</td>\n",
       "    </tr>\n",
       "    <tr>\n",
       "      <th>itaketaskstoolightly</th>\n",
       "      <td>-0.766</td>\n",
       "    </tr>\n",
       "    <tr>\n",
       "      <th>iadapteasilytonewsituations</th>\n",
       "      <td>0.764</td>\n",
       "    </tr>\n",
       "    <tr>\n",
       "      <th>ihavedifficultystartingtasks</th>\n",
       "      <td>-0.755</td>\n",
       "    </tr>\n",
       "    <tr>\n",
       "      <th>idaretosayanything</th>\n",
       "      <td>0.752</td>\n",
       "    </tr>\n",
       "    <tr>\n",
       "      <th>iremaincalmunderpressure</th>\n",
       "      <td>0.751</td>\n",
       "    </tr>\n",
       "  </tbody>\n",
       "</table>\n",
       "</div>"
      ],
      "text/plain": [
       "                                    1\n",
       "iknowhowtocomfortothers         0.862\n",
       "iaccomplishmyworkontime         0.836\n",
       "iwastemytime                   -0.820\n",
       "ihandletaskssmoothly            0.789\n",
       "iturnplansintoactions           0.786\n",
       "iamalwaysbusy                   0.782\n",
       "iamnotaveryenthusiasticperson  -0.773\n",
       "ithinkquickly                   0.770\n",
       "imakebeautifulthings            0.770\n",
       "iamnothighlymotivatedtosucceed -0.770\n",
       "itaketaskstoolightly           -0.766\n",
       "iadapteasilytonewsituations     0.764\n",
       "ihavedifficultystartingtasks   -0.755\n",
       "idaretosayanything              0.752\n",
       "iremaincalmunderpressure        0.751"
      ]
     },
     "execution_count": 48,
     "metadata": {},
     "output_type": "execute_result"
    }
   ],
   "source": [
    "# Reliability\n",
    "factor, remaining = get_factor(remaining=remaining, threshold=.75)\n",
    "factor"
   ]
  },
  {
   "cell_type": "code",
   "execution_count": 49,
   "metadata": {
    "collapsed": false
   },
   "outputs": [
    {
     "data": {
      "text/html": [
       "<div>\n",
       "<style>\n",
       "    .dataframe thead tr:only-child th {\n",
       "        text-align: right;\n",
       "    }\n",
       "\n",
       "    .dataframe thead th {\n",
       "        text-align: left;\n",
       "    }\n",
       "\n",
       "    .dataframe tbody tr th {\n",
       "        vertical-align: top;\n",
       "    }\n",
       "</style>\n",
       "<table border=\"1\" class=\"dataframe\">\n",
       "  <thead>\n",
       "    <tr style=\"text-align: right;\">\n",
       "      <th></th>\n",
       "      <th>1</th>\n",
       "    </tr>\n",
       "  </thead>\n",
       "  <tbody>\n",
       "    <tr>\n",
       "      <th>ikeepthingstidy</th>\n",
       "      <td>0.799</td>\n",
       "    </tr>\n",
       "    <tr>\n",
       "      <th>idonotplanahead</th>\n",
       "      <td>-0.796</td>\n",
       "    </tr>\n",
       "    <tr>\n",
       "      <th>itaketaskstoolightly</th>\n",
       "      <td>-0.786</td>\n",
       "    </tr>\n",
       "    <tr>\n",
       "      <th>ineglectmyduties</th>\n",
       "      <td>-0.771</td>\n",
       "    </tr>\n",
       "    <tr>\n",
       "      <th>ifeelothersemotions</th>\n",
       "      <td>0.756</td>\n",
       "    </tr>\n",
       "    <tr>\n",
       "      <th>icarryoutmyplans</th>\n",
       "      <td>0.741</td>\n",
       "    </tr>\n",
       "  </tbody>\n",
       "</table>\n",
       "</div>"
      ],
      "text/plain": [
       "                          1\n",
       "ikeepthingstidy       0.799\n",
       "idonotplanahead      -0.796\n",
       "itaketaskstoolightly -0.786\n",
       "ineglectmyduties     -0.771\n",
       "ifeelothersemotions   0.756\n",
       "icarryoutmyplans      0.741"
      ]
     },
     "execution_count": 49,
     "metadata": {},
     "output_type": "execute_result"
    }
   ],
   "source": [
    "# Conscientiousness\n",
    "factor, remaining = get_factor(remaining=remaining, threshold=.74)\n",
    "factor"
   ]
  },
  {
   "cell_type": "code",
   "execution_count": null,
   "metadata": {
    "collapsed": true
   },
   "outputs": [],
   "source": []
  }
 ],
 "metadata": {
  "anaconda-cloud": {},
  "kernelspec": {
   "display_name": "Python 3",
   "language": "python",
   "name": "python3"
  },
  "language_info": {
   "codemirror_mode": {
    "name": "ipython",
    "version": 3
   },
   "file_extension": ".py",
   "mimetype": "text/x-python",
   "name": "python",
   "nbconvert_exporter": "python",
   "pygments_lexer": "ipython3",
   "version": "3.6.0"
  }
 },
 "nbformat": 4,
 "nbformat_minor": 2
}
