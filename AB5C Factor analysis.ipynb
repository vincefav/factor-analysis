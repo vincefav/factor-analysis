{
 "cells": [
  {
   "cell_type": "code",
   "execution_count": 1,
   "metadata": {
    "collapsed": false
   },
   "outputs": [
    {
     "name": "stdout",
     "output_type": "stream",
     "text": [
      "Populating the interactive namespace from numpy and matplotlib\n"
     ]
    }
   ],
   "source": [
    "import pandas as pd\n",
    "import numpy as np\n",
    "import seaborn as sns\n",
    "sns.set_style('dark')\n",
    "pd.set_option('display.float_format', lambda x: '{:.3f}'.format(x))\n",
    "\n",
    "%pylab inline"
   ]
  },
  {
   "cell_type": "code",
   "execution_count": 2,
   "metadata": {
    "collapsed": false
   },
   "outputs": [
    {
     "data": {
      "text/plain": [
       "(115, 512)"
      ]
     },
     "execution_count": 2,
     "metadata": {},
     "output_type": "execute_result"
    }
   ],
   "source": [
    "# Pre-wrangled data\n",
    "data = pd.read_csv('data_factor_analysis.csv')\n",
    "data = data[[i for i in data.columns if 'Unnamed' not in i]] # fix import bug\n",
    "\n",
    "data.shape"
   ]
  },
  {
   "cell_type": "code",
   "execution_count": 3,
   "metadata": {
    "collapsed": false
   },
   "outputs": [
    {
     "data": {
      "text/html": [
       "<div>\n",
       "<style scoped>\n",
       "    .dataframe tbody tr th:only-of-type {\n",
       "        vertical-align: middle;\n",
       "    }\n",
       "\n",
       "    .dataframe tbody tr th {\n",
       "        vertical-align: top;\n",
       "    }\n",
       "\n",
       "    .dataframe thead th {\n",
       "        text-align: right;\n",
       "    }\n",
       "</style>\n",
       "<table border=\"1\" class=\"dataframe\">\n",
       "  <thead>\n",
       "    <tr style=\"text-align: right;\">\n",
       "      <th></th>\n",
       "      <th>iacceptpeopleastheyare</th>\n",
       "      <th>iaccomplishmyworkontime</th>\n",
       "      <th>iactattheexpenseofothers</th>\n",
       "      <th>iactcomfortablywithothers</th>\n",
       "      <th>iactwildandcrazy</th>\n",
       "      <th>iadapteasilytonewsituations</th>\n",
       "      <th>ialwaysknowwhatiamdoing</th>\n",
       "      <th>iamacreatureofhabit</th>\n",
       "      <th>iamapersonwhosemoodsgoupanddowneasily</th>\n",
       "      <th>iamaveryprivateperson</th>\n",
       "      <th>...</th>\n",
       "      <th>iwarmupquicklytoothers</th>\n",
       "      <th>iwastemytime</th>\n",
       "      <th>iwearmyheartonmysleeve</th>\n",
       "      <th>iwilldoanythingforothers</th>\n",
       "      <th>iwillnotprobedeeplyintoasubject</th>\n",
       "      <th>iworkaccordingtoaroutine</th>\n",
       "      <th>iworkonimprovingmyself</th>\n",
       "      <th>iworryaboutthings</th>\n",
       "      <th>iwouldnevercheatonmytaxes</th>\n",
       "      <th>iwouldntharmafly</th>\n",
       "    </tr>\n",
       "  </thead>\n",
       "  <tbody>\n",
       "    <tr>\n",
       "      <th>0</th>\n",
       "      <td>6</td>\n",
       "      <td>5</td>\n",
       "      <td>1</td>\n",
       "      <td>6</td>\n",
       "      <td>1</td>\n",
       "      <td>3</td>\n",
       "      <td>1</td>\n",
       "      <td>6</td>\n",
       "      <td>4</td>\n",
       "      <td>6</td>\n",
       "      <td>...</td>\n",
       "      <td>5</td>\n",
       "      <td>6</td>\n",
       "      <td>6</td>\n",
       "      <td>6</td>\n",
       "      <td>1</td>\n",
       "      <td>5</td>\n",
       "      <td>7</td>\n",
       "      <td>7</td>\n",
       "      <td>7</td>\n",
       "      <td>2</td>\n",
       "    </tr>\n",
       "    <tr>\n",
       "      <th>1</th>\n",
       "      <td>2</td>\n",
       "      <td>7</td>\n",
       "      <td>1</td>\n",
       "      <td>4</td>\n",
       "      <td>5</td>\n",
       "      <td>6</td>\n",
       "      <td>5</td>\n",
       "      <td>5</td>\n",
       "      <td>6</td>\n",
       "      <td>2</td>\n",
       "      <td>...</td>\n",
       "      <td>7</td>\n",
       "      <td>3</td>\n",
       "      <td>5</td>\n",
       "      <td>5</td>\n",
       "      <td>1</td>\n",
       "      <td>6</td>\n",
       "      <td>7</td>\n",
       "      <td>6</td>\n",
       "      <td>7</td>\n",
       "      <td>7</td>\n",
       "    </tr>\n",
       "    <tr>\n",
       "      <th>2</th>\n",
       "      <td>6</td>\n",
       "      <td>6</td>\n",
       "      <td>4</td>\n",
       "      <td>6</td>\n",
       "      <td>3</td>\n",
       "      <td>5</td>\n",
       "      <td>3</td>\n",
       "      <td>5</td>\n",
       "      <td>6</td>\n",
       "      <td>6</td>\n",
       "      <td>...</td>\n",
       "      <td>5</td>\n",
       "      <td>4</td>\n",
       "      <td>3</td>\n",
       "      <td>4</td>\n",
       "      <td>2</td>\n",
       "      <td>6</td>\n",
       "      <td>6</td>\n",
       "      <td>6</td>\n",
       "      <td>4</td>\n",
       "      <td>1</td>\n",
       "    </tr>\n",
       "    <tr>\n",
       "      <th>3</th>\n",
       "      <td>7</td>\n",
       "      <td>7</td>\n",
       "      <td>2</td>\n",
       "      <td>4</td>\n",
       "      <td>3</td>\n",
       "      <td>4</td>\n",
       "      <td>4</td>\n",
       "      <td>7</td>\n",
       "      <td>2</td>\n",
       "      <td>4</td>\n",
       "      <td>...</td>\n",
       "      <td>4</td>\n",
       "      <td>3</td>\n",
       "      <td>5</td>\n",
       "      <td>4</td>\n",
       "      <td>4</td>\n",
       "      <td>6</td>\n",
       "      <td>7</td>\n",
       "      <td>6</td>\n",
       "      <td>7</td>\n",
       "      <td>2</td>\n",
       "    </tr>\n",
       "    <tr>\n",
       "      <th>4</th>\n",
       "      <td>7</td>\n",
       "      <td>6</td>\n",
       "      <td>1</td>\n",
       "      <td>5</td>\n",
       "      <td>4</td>\n",
       "      <td>5</td>\n",
       "      <td>5</td>\n",
       "      <td>4</td>\n",
       "      <td>1</td>\n",
       "      <td>5</td>\n",
       "      <td>...</td>\n",
       "      <td>1</td>\n",
       "      <td>4</td>\n",
       "      <td>1</td>\n",
       "      <td>1</td>\n",
       "      <td>3</td>\n",
       "      <td>7</td>\n",
       "      <td>7</td>\n",
       "      <td>4</td>\n",
       "      <td>7</td>\n",
       "      <td>1</td>\n",
       "    </tr>\n",
       "  </tbody>\n",
       "</table>\n",
       "<p>5 rows × 512 columns</p>\n",
       "</div>"
      ],
      "text/plain": [
       "   iacceptpeopleastheyare  iaccomplishmyworkontime  iactattheexpenseofothers  \\\n",
       "0                       6                        5                         1   \n",
       "1                       2                        7                         1   \n",
       "2                       6                        6                         4   \n",
       "3                       7                        7                         2   \n",
       "4                       7                        6                         1   \n",
       "\n",
       "   iactcomfortablywithothers  iactwildandcrazy  iadapteasilytonewsituations  \\\n",
       "0                          6                 1                            3   \n",
       "1                          4                 5                            6   \n",
       "2                          6                 3                            5   \n",
       "3                          4                 3                            4   \n",
       "4                          5                 4                            5   \n",
       "\n",
       "   ialwaysknowwhatiamdoing  iamacreatureofhabit  \\\n",
       "0                        1                    6   \n",
       "1                        5                    5   \n",
       "2                        3                    5   \n",
       "3                        4                    7   \n",
       "4                        5                    4   \n",
       "\n",
       "   iamapersonwhosemoodsgoupanddowneasily  iamaveryprivateperson  \\\n",
       "0                                      4                      6   \n",
       "1                                      6                      2   \n",
       "2                                      6                      6   \n",
       "3                                      2                      4   \n",
       "4                                      1                      5   \n",
       "\n",
       "         ...         iwarmupquicklytoothers  iwastemytime  \\\n",
       "0        ...                              5             6   \n",
       "1        ...                              7             3   \n",
       "2        ...                              5             4   \n",
       "3        ...                              4             3   \n",
       "4        ...                              1             4   \n",
       "\n",
       "   iwearmyheartonmysleeve  iwilldoanythingforothers  \\\n",
       "0                       6                         6   \n",
       "1                       5                         5   \n",
       "2                       3                         4   \n",
       "3                       5                         4   \n",
       "4                       1                         1   \n",
       "\n",
       "   iwillnotprobedeeplyintoasubject  iworkaccordingtoaroutine  \\\n",
       "0                                1                         5   \n",
       "1                                1                         6   \n",
       "2                                2                         6   \n",
       "3                                4                         6   \n",
       "4                                3                         7   \n",
       "\n",
       "   iworkonimprovingmyself  iworryaboutthings  iwouldnevercheatonmytaxes  \\\n",
       "0                       7                  7                          7   \n",
       "1                       7                  6                          7   \n",
       "2                       6                  6                          4   \n",
       "3                       7                  6                          7   \n",
       "4                       7                  4                          7   \n",
       "\n",
       "   iwouldntharmafly  \n",
       "0                 2  \n",
       "1                 7  \n",
       "2                 1  \n",
       "3                 2  \n",
       "4                 1  \n",
       "\n",
       "[5 rows x 512 columns]"
      ]
     },
     "execution_count": 3,
     "metadata": {},
     "output_type": "execute_result"
    }
   ],
   "source": [
    "data.head()"
   ]
  },
  {
   "cell_type": "markdown",
   "metadata": {},
   "source": [
    "First we need to determine the appropriate number of factors. I propose doing this by taking the value of the **4th-smallest factor loading**.\n",
    "\n",
    "Why 4th? Guadagnoli & Velicer (1988) consider a factor to be reliable if it has 4 or more loadings of at least 0.6, regardless of the sample size.\n",
    "\n",
    "Meanwhile, MacCallum et al. (1999, 2001) assert that I should use a minimum value of 0.65, considering my sample size. (See http://imaging.mrc-cbu.cam.ac.uk/statswiki/FAQ/thresholds for more tips)\n",
    "\n",
    "So let's see how many factors have a minimum loading of at least 0.65."
   ]
  },
  {
   "cell_type": "code",
   "execution_count": 4,
   "metadata": {
    "collapsed": false
   },
   "outputs": [
    {
     "name": "stdout",
     "output_type": "stream",
     "text": [
      "Minimum factor loadings for n factors:\n",
      "\n",
      "1: 0.971302170421294\n",
      "2: 0.83868357729917\n",
      "3: 0.8815729754845166\n",
      "4: 0.8315973111495301\n",
      "5: 0.7821274358582868\n",
      "6: 0.7798304708870355\n",
      "7: 0.5998322496138356\n",
      "8: 0.5529604687237696\n",
      "9: 0.5570817751687757\n",
      "10: 0.5713364249340273\n"
     ]
    }
   ],
   "source": [
    "from sklearn.decomposition import FactorAnalysis\n",
    "\n",
    "print('Minimum factor loadings for n factors:\\n')\n",
    "\n",
    "for n_comp in range(1,11):\n",
    "    print(n_comp, end=': ')\n",
    "    fa = FactorAnalysis(n_components=n_comp).fit(data)\n",
    "    fa1 = fa.transform(data)\n",
    "\n",
    "    # Stick it in a dataframe\n",
    "    factors = pd.DataFrame(fa.components_, columns=data.columns).T\n",
    "    \n",
    "    # Record and compare minimum factor loadings\n",
    "    mins = []\n",
    "    for i in factors.columns:\n",
    "        factors['absol'] = abs(factors[i])\n",
    "        factors_sorted = factors.sort_values('absol', ascending=False).head(4) # Top 4\n",
    "        mins.append(factors_sorted['absol'].min())                              # Min value\n",
    "        del factors['absol']\n",
    "    \n",
    "    print(np.min(np.array(mins)))"
   ]
  },
  {
   "cell_type": "markdown",
   "metadata": {},
   "source": [
    "Notice that we find less and less variability as we add more factors! For machine learning, there isn't much harm in using too many factors, but in psychometrics, we need to follow the rule outlined above.\n",
    "\n",
    "7 appears to be a good number for this dataset. Let's take a look at what constitutes each factor."
   ]
  },
  {
   "cell_type": "code",
   "execution_count": 5,
   "metadata": {
    "collapsed": false
   },
   "outputs": [
    {
     "name": "stdout",
     "output_type": "stream",
     "text": [
      "1\n",
      "Axes(0.125,0.125;0.775x0.755)\n"
     ]
    },
    {
     "data": {
      "image/png": "[encoded data removed]",
      "text/plain": [
       "<matplotlib.figure.Figure at 0x1619c090710>"
      ]
     },
     "metadata": {},
     "output_type": "display_data"
    },
    {
     "name": "stdout",
     "output_type": "stream",
     "text": [
      "2\n",
      "Axes(0.125,0.125;0.775x0.755)\n"
     ]
    },
    {
     "data": {
      "image/png": "[encoded data removed]",
      "text/plain": [
       "<matplotlib.figure.Figure at 0x1619c14bac8>"
      ]
     },
     "metadata": {},
     "output_type": "display_data"
    },
    {
     "name": "stdout",
     "output_type": "stream",
     "text": [
      "3\n",
      "Axes(0.125,0.125;0.775x0.755)\n"
     ]
    },
    {
     "data": {
      "image/png": "[encoded data removed]",
      "text/plain": [
       "<matplotlib.figure.Figure at 0x1619c179fd0>"
      ]
     },
     "metadata": {},
     "output_type": "display_data"
    },
    {
     "name": "stdout",
     "output_type": "stream",
     "text": [
      "4\n",
      "Axes(0.125,0.125;0.775x0.755)\n"
     ]
    },
    {
     "data": {
      "image/png": "[encoded data removed]",
      "text/plain": [
       "<matplotlib.figure.Figure at 0x1619c146b70>"
      ]
     },
     "metadata": {},
     "output_type": "display_data"
    },
    {
     "name": "stdout",
     "output_type": "stream",
     "text": [
      "5\n",
      "Axes(0.125,0.125;0.775x0.755)\n"
     ]
    },
    {
     "data": {
      "image/png": "[encoded data removed]",
      "text/plain": [
       "<matplotlib.figure.Figure at 0x1619c1e3e80>"
      ]
     },
     "metadata": {},
     "output_type": "display_data"
    },
    {
     "name": "stdout",
     "output_type": "stream",
     "text": [
      "6\n",
      "Axes(0.125,0.125;0.775x0.755)\n"
     ]
    },
    {
     "data": {
      "image/png": "[encoded data removed]",
      "text/plain": [
       "<matplotlib.figure.Figure at 0x1619ca342e8>"
      ]
     },
     "metadata": {},
     "output_type": "display_data"
    },
    {
     "name": "stdout",
     "output_type": "stream",
     "text": [
      "7\n",
      "Axes(0.125,0.125;0.775x0.755)\n"
     ]
    },
    {
     "data": {
      "image/png": "[encoded data removed]",
      "text/plain": [
       "<matplotlib.figure.Figure at 0x1619caa79e8>"
      ]
     },
     "metadata": {},
     "output_type": "display_data"
    }
   ],
   "source": [
    "from sklearn.decomposition import FactorAnalysis\n",
    "from sklearn.preprocessing import MinMaxScaler\n",
    "\n",
    "n_comp = 7\n",
    "\n",
    "fa = FactorAnalysis(n_components=n_comp).fit(data)\n",
    "factors = fa.transform(data)\n",
    "\n",
    "# Scale values\n",
    "mms = MinMaxScaler().fit(factors)\n",
    "factors = mms.transform(factors)\n",
    "\n",
    "factors = pd.DataFrame(factors, columns=[str(n) for n in np.arange(1,n_comp+1,1)])\n",
    "\n",
    "# Let's look at the histograms as well...\n",
    "for i in factors.columns:\n",
    "    print(i)\n",
    "    print(factors[i].hist(bins=7))\n",
    "    plt.show()"
   ]
  },
  {
   "cell_type": "markdown",
   "metadata": {},
   "source": [
    "Those are some nice-looking distributions!\n",
    "\n",
    "Now let's examine which items correlate with each factor."
   ]
  },
  {
   "cell_type": "code",
   "execution_count": 6,
   "metadata": {
    "collapsed": false
   },
   "outputs": [
    {
     "data": {
      "text/html": [
       "<div>\n",
       "<style scoped>\n",
       "    .dataframe tbody tr th:only-of-type {\n",
       "        vertical-align: middle;\n",
       "    }\n",
       "\n",
       "    .dataframe tbody tr th {\n",
       "        vertical-align: top;\n",
       "    }\n",
       "\n",
       "    .dataframe thead th {\n",
       "        text-align: right;\n",
       "    }\n",
       "</style>\n",
       "<table border=\"1\" class=\"dataframe\">\n",
       "  <thead>\n",
       "    <tr style=\"text-align: right;\">\n",
       "      <th></th>\n",
       "      <th>0</th>\n",
       "    </tr>\n",
       "  </thead>\n",
       "  <tbody>\n",
       "    <tr>\n",
       "      <th>ihandletaskssmoothly</th>\n",
       "      <td>0.703</td>\n",
       "    </tr>\n",
       "    <tr>\n",
       "      <th>iturnplansintoactions</th>\n",
       "      <td>0.675</td>\n",
       "    </tr>\n",
       "    <tr>\n",
       "      <th>itakecharge</th>\n",
       "      <td>0.672</td>\n",
       "    </tr>\n",
       "    <tr>\n",
       "      <th>ithinkquickly</th>\n",
       "      <td>0.641</td>\n",
       "    </tr>\n",
       "    <tr>\n",
       "      <th>iexcelinwhatido</th>\n",
       "      <td>0.634</td>\n",
       "    </tr>\n",
       "  </tbody>\n",
       "</table>\n",
       "</div>"
      ],
      "text/plain": [
       "                          0\n",
       "ihandletaskssmoothly  0.703\n",
       "iturnplansintoactions 0.675\n",
       "itakecharge           0.672\n",
       "ithinkquickly         0.641\n",
       "iexcelinwhatido       0.634"
      ]
     },
     "execution_count": 6,
     "metadata": {},
     "output_type": "execute_result"
    }
   ],
   "source": [
    "def show_items(factor):\n",
    "    '''Returns a dataframe of correlations, sorted\n",
    "    by absolute value'''\n",
    "    f = pd.DataFrame(data.corrwith(factors[str(factor)]))\n",
    "    f['absol'] = abs(f[0])\n",
    "    return f.sort_values('absol', ascending=False).drop('absol', axis=1).head()\n",
    "\n",
    "# I'd call this \"competence\"\n",
    "show_items(1)"
   ]
  },
  {
   "cell_type": "code",
   "execution_count": 7,
   "metadata": {
    "collapsed": false
   },
   "outputs": [
    {
     "data": {
      "text/html": [
       "<div>\n",
       "<style scoped>\n",
       "    .dataframe tbody tr th:only-of-type {\n",
       "        vertical-align: middle;\n",
       "    }\n",
       "\n",
       "    .dataframe tbody tr th {\n",
       "        vertical-align: top;\n",
       "    }\n",
       "\n",
       "    .dataframe thead th {\n",
       "        text-align: right;\n",
       "    }\n",
       "</style>\n",
       "<table border=\"1\" class=\"dataframe\">\n",
       "  <thead>\n",
       "    <tr style=\"text-align: right;\">\n",
       "      <th></th>\n",
       "      <th>0</th>\n",
       "    </tr>\n",
       "  </thead>\n",
       "  <tbody>\n",
       "    <tr>\n",
       "      <th>iworryaboutthings</th>\n",
       "      <td>0.683</td>\n",
       "    </tr>\n",
       "    <tr>\n",
       "      <th>igetoverwhelmedbyemotions</th>\n",
       "      <td>0.641</td>\n",
       "    </tr>\n",
       "    <tr>\n",
       "      <th>igetstressedouteasily</th>\n",
       "      <td>0.606</td>\n",
       "    </tr>\n",
       "    <tr>\n",
       "      <th>iexperiencemyemotionsintensely</th>\n",
       "      <td>0.587</td>\n",
       "    </tr>\n",
       "    <tr>\n",
       "      <th>igeteasilyagitated</th>\n",
       "      <td>0.566</td>\n",
       "    </tr>\n",
       "  </tbody>\n",
       "</table>\n",
       "</div>"
      ],
      "text/plain": [
       "                                   0\n",
       "iworryaboutthings              0.683\n",
       "igetoverwhelmedbyemotions      0.641\n",
       "igetstressedouteasily          0.606\n",
       "iexperiencemyemotionsintensely 0.587\n",
       "igeteasilyagitated             0.566"
      ]
     },
     "execution_count": 7,
     "metadata": {},
     "output_type": "execute_result"
    }
   ],
   "source": [
    "# Neuroticism and sensitivity to stress\n",
    "show_items(2)"
   ]
  },
  {
   "cell_type": "code",
   "execution_count": 8,
   "metadata": {
    "collapsed": false
   },
   "outputs": [
    {
     "data": {
      "text/html": [
       "<div>\n",
       "<style scoped>\n",
       "    .dataframe tbody tr th:only-of-type {\n",
       "        vertical-align: middle;\n",
       "    }\n",
       "\n",
       "    .dataframe tbody tr th {\n",
       "        vertical-align: top;\n",
       "    }\n",
       "\n",
       "    .dataframe thead th {\n",
       "        text-align: right;\n",
       "    }\n",
       "</style>\n",
       "<table border=\"1\" class=\"dataframe\">\n",
       "  <thead>\n",
       "    <tr style=\"text-align: right;\">\n",
       "      <th></th>\n",
       "      <th>0</th>\n",
       "    </tr>\n",
       "  </thead>\n",
       "  <tbody>\n",
       "    <tr>\n",
       "      <th>imakealotofnoise</th>\n",
       "      <td>0.595</td>\n",
       "    </tr>\n",
       "    <tr>\n",
       "      <th>iliketoattractattention</th>\n",
       "      <td>0.581</td>\n",
       "    </tr>\n",
       "    <tr>\n",
       "      <th>ishootmymouthoff</th>\n",
       "      <td>0.554</td>\n",
       "    </tr>\n",
       "    <tr>\n",
       "      <th>idemandattention</th>\n",
       "      <td>0.535</td>\n",
       "    </tr>\n",
       "    <tr>\n",
       "      <th>ineverstoptalking</th>\n",
       "      <td>0.530</td>\n",
       "    </tr>\n",
       "  </tbody>\n",
       "</table>\n",
       "</div>"
      ],
      "text/plain": [
       "                            0\n",
       "imakealotofnoise        0.595\n",
       "iliketoattractattention 0.581\n",
       "ishootmymouthoff        0.554\n",
       "idemandattention        0.535\n",
       "ineverstoptalking       0.530"
      ]
     },
     "execution_count": 8,
     "metadata": {},
     "output_type": "execute_result"
    }
   ],
   "source": [
    "# Belligerence? Isn't that a good word for this?\n",
    "show_items(3)"
   ]
  },
  {
   "cell_type": "code",
   "execution_count": 9,
   "metadata": {
    "collapsed": false
   },
   "outputs": [
    {
     "data": {
      "text/html": [
       "<div>\n",
       "<style scoped>\n",
       "    .dataframe tbody tr th:only-of-type {\n",
       "        vertical-align: middle;\n",
       "    }\n",
       "\n",
       "    .dataframe tbody tr th {\n",
       "        vertical-align: top;\n",
       "    }\n",
       "\n",
       "    .dataframe thead th {\n",
       "        text-align: right;\n",
       "    }\n",
       "</style>\n",
       "<table border=\"1\" class=\"dataframe\">\n",
       "  <thead>\n",
       "    <tr style=\"text-align: right;\">\n",
       "      <th></th>\n",
       "      <th>0</th>\n",
       "    </tr>\n",
       "  </thead>\n",
       "  <tbody>\n",
       "    <tr>\n",
       "      <th>isympathizewithothersfeelings</th>\n",
       "      <td>-0.656</td>\n",
       "    </tr>\n",
       "    <tr>\n",
       "      <th>isufferfromotherssorrows</th>\n",
       "      <td>-0.564</td>\n",
       "    </tr>\n",
       "    <tr>\n",
       "      <th>ifeelothersemotions</th>\n",
       "      <td>-0.537</td>\n",
       "    </tr>\n",
       "    <tr>\n",
       "      <th>iputpeopleunderpressure</th>\n",
       "      <td>0.519</td>\n",
       "    </tr>\n",
       "    <tr>\n",
       "      <th>idontunderstandpeoplewhogetemotional</th>\n",
       "      <td>0.500</td>\n",
       "    </tr>\n",
       "  </tbody>\n",
       "</table>\n",
       "</div>"
      ],
      "text/plain": [
       "                                          0\n",
       "isympathizewithothersfeelings        -0.656\n",
       "isufferfromotherssorrows             -0.564\n",
       "ifeelothersemotions                  -0.537\n",
       "iputpeopleunderpressure               0.519\n",
       "idontunderstandpeoplewhogetemotional  0.500"
      ]
     },
     "execution_count": 9,
     "metadata": {},
     "output_type": "execute_result"
    }
   ],
   "source": [
    "# Agreeableness\n",
    "show_items(4)"
   ]
  },
  {
   "cell_type": "code",
   "execution_count": 10,
   "metadata": {
    "collapsed": false
   },
   "outputs": [
    {
     "data": {
      "text/html": [
       "<div>\n",
       "<style scoped>\n",
       "    .dataframe tbody tr th:only-of-type {\n",
       "        vertical-align: middle;\n",
       "    }\n",
       "\n",
       "    .dataframe tbody tr th {\n",
       "        vertical-align: top;\n",
       "    }\n",
       "\n",
       "    .dataframe thead th {\n",
       "        text-align: right;\n",
       "    }\n",
       "</style>\n",
       "<table border=\"1\" class=\"dataframe\">\n",
       "  <thead>\n",
       "    <tr style=\"text-align: right;\">\n",
       "      <th></th>\n",
       "      <th>0</th>\n",
       "    </tr>\n",
       "  </thead>\n",
       "  <tbody>\n",
       "    <tr>\n",
       "      <th>ibelieveintheimportanceofart</th>\n",
       "      <td>0.607</td>\n",
       "    </tr>\n",
       "    <tr>\n",
       "      <th>ineedacreativeoutlet</th>\n",
       "      <td>0.544</td>\n",
       "    </tr>\n",
       "    <tr>\n",
       "      <th>iamnotinterestedintheoreticaldiscussions</th>\n",
       "      <td>-0.517</td>\n",
       "    </tr>\n",
       "    <tr>\n",
       "      <th>ienjoyspendingtimebymyself</th>\n",
       "      <td>0.480</td>\n",
       "    </tr>\n",
       "    <tr>\n",
       "      <th>ispendtimereflectingonthings</th>\n",
       "      <td>0.463</td>\n",
       "    </tr>\n",
       "  </tbody>\n",
       "</table>\n",
       "</div>"
      ],
      "text/plain": [
       "                                              0\n",
       "ibelieveintheimportanceofart              0.607\n",
       "ineedacreativeoutlet                      0.544\n",
       "iamnotinterestedintheoreticaldiscussions -0.517\n",
       "ienjoyspendingtimebymyself                0.480\n",
       "ispendtimereflectingonthings              0.463"
      ]
     },
     "execution_count": 10,
     "metadata": {},
     "output_type": "execute_result"
    }
   ],
   "source": [
    "# Openness to experience\n",
    "show_items(5)"
   ]
  },
  {
   "cell_type": "code",
   "execution_count": 11,
   "metadata": {
    "collapsed": false
   },
   "outputs": [
    {
     "data": {
      "text/html": [
       "<div>\n",
       "<style scoped>\n",
       "    .dataframe tbody tr th:only-of-type {\n",
       "        vertical-align: middle;\n",
       "    }\n",
       "\n",
       "    .dataframe tbody tr th {\n",
       "        vertical-align: top;\n",
       "    }\n",
       "\n",
       "    .dataframe thead th {\n",
       "        text-align: right;\n",
       "    }\n",
       "</style>\n",
       "<table border=\"1\" class=\"dataframe\">\n",
       "  <thead>\n",
       "    <tr style=\"text-align: right;\">\n",
       "      <th></th>\n",
       "      <th>0</th>\n",
       "    </tr>\n",
       "  </thead>\n",
       "  <tbody>\n",
       "    <tr>\n",
       "      <th>iamrelaxedmostofthetime</th>\n",
       "      <td>0.533</td>\n",
       "    </tr>\n",
       "    <tr>\n",
       "      <th>iamnoteasilystirred</th>\n",
       "      <td>0.483</td>\n",
       "    </tr>\n",
       "    <tr>\n",
       "      <th>iseldomgetemotional</th>\n",
       "      <td>0.482</td>\n",
       "    </tr>\n",
       "    <tr>\n",
       "      <th>iameasytosatisfy</th>\n",
       "      <td>0.476</td>\n",
       "    </tr>\n",
       "    <tr>\n",
       "      <th>iamalwaysinthesamemood</th>\n",
       "      <td>0.439</td>\n",
       "    </tr>\n",
       "  </tbody>\n",
       "</table>\n",
       "</div>"
      ],
      "text/plain": [
       "                            0\n",
       "iamrelaxedmostofthetime 0.533\n",
       "iamnoteasilystirred     0.483\n",
       "iseldomgetemotional     0.482\n",
       "iameasytosatisfy        0.476\n",
       "iamalwaysinthesamemood  0.439"
      ]
     },
     "execution_count": 11,
     "metadata": {},
     "output_type": "execute_result"
    }
   ],
   "source": [
    "# Emotional stability\n",
    "show_items(6)"
   ]
  },
  {
   "cell_type": "code",
   "execution_count": 12,
   "metadata": {
    "collapsed": false
   },
   "outputs": [
    {
     "data": {
      "text/html": [
       "<div>\n",
       "<style scoped>\n",
       "    .dataframe tbody tr th:only-of-type {\n",
       "        vertical-align: middle;\n",
       "    }\n",
       "\n",
       "    .dataframe tbody tr th {\n",
       "        vertical-align: top;\n",
       "    }\n",
       "\n",
       "    .dataframe thead th {\n",
       "        text-align: right;\n",
       "    }\n",
       "</style>\n",
       "<table border=\"1\" class=\"dataframe\">\n",
       "  <thead>\n",
       "    <tr style=\"text-align: right;\">\n",
       "      <th></th>\n",
       "      <th>0</th>\n",
       "    </tr>\n",
       "  </thead>\n",
       "  <tbody>\n",
       "    <tr>\n",
       "      <th>iwanttobetoldiamright</th>\n",
       "      <td>-0.425</td>\n",
       "    </tr>\n",
       "    <tr>\n",
       "      <th>itelltallstoriesaboutmyself</th>\n",
       "      <td>-0.385</td>\n",
       "    </tr>\n",
       "    <tr>\n",
       "      <th>ionlytalkaboutmyowninterests</th>\n",
       "      <td>-0.372</td>\n",
       "    </tr>\n",
       "    <tr>\n",
       "      <th>iprefertobealone</th>\n",
       "      <td>0.361</td>\n",
       "    </tr>\n",
       "    <tr>\n",
       "      <th>iamquicktojudgeothers</th>\n",
       "      <td>-0.359</td>\n",
       "    </tr>\n",
       "  </tbody>\n",
       "</table>\n",
       "</div>"
      ],
      "text/plain": [
       "                                  0\n",
       "iwanttobetoldiamright        -0.425\n",
       "itelltallstoriesaboutmyself  -0.385\n",
       "ionlytalkaboutmyowninterests -0.372\n",
       "iprefertobealone              0.361\n",
       "iamquicktojudgeothers        -0.359"
      ]
     },
     "execution_count": 12,
     "metadata": {},
     "output_type": "execute_result"
    }
   ],
   "source": [
    "# Self-confidence, or something vaguely like it.\n",
    "show_items(7)"
   ]
  }
 ],
 "metadata": {
  "anaconda-cloud": {},
  "kernelspec": {
   "display_name": "Python [default]",
   "language": "python",
   "name": "python3"
  },
  "language_info": {
   "codemirror_mode": {
    "name": "ipython",
    "version": 3
   },
   "file_extension": ".py",
   "mimetype": "text/x-python",
   "name": "python",
   "nbconvert_exporter": "python",
   "pygments_lexer": "ipython3",
   "version": "3.5.2"
  }
 },
 "nbformat": 4,
 "nbformat_minor": 2
}
